{
 "cells": [
  {
   "cell_type": "markdown",
   "metadata": {},
   "source": [
    "<img src=\"./images/banner.png\" width=\"800\">"
   ]
  },
  {
   "cell_type": "markdown",
   "metadata": {},
   "source": [
    "# Conditional Statements in Python"
   ]
  },
  {
   "cell_type": "markdown",
   "metadata": {},
   "source": [
    "Conditional statements, also known as decision-making or branching statements, allow a program to execute certain pieces of code depending on whether a condition is evaluated as true or false. In Python, these are primarily handled with `if`, `elif`, and `else` statements.\n"
   ]
  },
  {
   "cell_type": "markdown",
   "metadata": {},
   "source": [
    "**Table of contents**<a id='toc0_'></a>    \n",
    "- [The `if` Statement](#toc1_)    \n",
    "- [The `else` Statement](#toc2_)    \n",
    "- [The `elif` Statement](#toc3_)    \n",
    "- [Nested Conditional Statements](#toc4_)    \n",
    "- [Conditional Expressions (Ternary Operator)](#toc5_)    \n",
    "- [Best Practices](#toc6_)    \n",
    "- [Conclusion](#toc7_)    \n",
    "- [Exercise: Basic Movie Ticket Pricing](#toc8_)    \n",
    "  - [Solution](#toc8_1_)    \n",
    "\n",
    "<!-- vscode-jupyter-toc-config\n",
    "\tnumbering=false\n",
    "\tanchor=true\n",
    "\tflat=false\n",
    "\tminLevel=2\n",
    "\tmaxLevel=6\n",
    "\t/vscode-jupyter-toc-config -->\n",
    "<!-- THIS CELL WILL BE REPLACED ON TOC UPDATE. DO NOT WRITE YOUR TEXT IN THIS CELL -->"
   ]
  },
  {
   "cell_type": "markdown",
   "metadata": {},
   "source": [
    "## <a id='toc1_'></a>[The `if` Statement](#toc0_)\n"
   ]
  },
  {
   "cell_type": "markdown",
   "metadata": {},
   "source": [
    "The `if` statement is the most fundamental conditional control structure in Python. It evaluates a condition and executes a block of code if the condition is true.\n"
   ]
  },
  {
   "cell_type": "code",
   "execution_count": 1,
   "metadata": {},
   "outputs": [
    {
     "name": "stdout",
     "output_type": "stream",
     "text": [
      "x is greater than 5.\n"
     ]
    }
   ],
   "source": [
    "# if statement example\n",
    "x = 10\n",
    "if x > 5:\n",
    "    print(\"x is greater than 5.\")"
   ]
  },
  {
   "cell_type": "markdown",
   "metadata": {},
   "source": [
    "\n",
    "If the condition `x > 5` is true, the print statement is executed. If the condition is false, the block of code under the `if` statement is skipped.\n"
   ]
  },
  {
   "cell_type": "markdown",
   "metadata": {},
   "source": [
    "## <a id='toc2_'></a>[The `else` Statement](#toc0_)\n"
   ]
  },
  {
   "cell_type": "markdown",
   "metadata": {},
   "source": [
    "The `else` statement complements the `if` statement. An `else` block is executed if the `if` statement's condition is false.\n"
   ]
  },
  {
   "cell_type": "code",
   "execution_count": 2,
   "metadata": {},
   "outputs": [
    {
     "name": "stdout",
     "output_type": "stream",
     "text": [
      "x is less than or equal to 5.\n"
     ]
    }
   ],
   "source": [
    "# if-else statement example\n",
    "x = 3\n",
    "if x > 5:\n",
    "    print(\"x is greater than 5.\")\n",
    "else:\n",
    "    print(\"x is less than or equal to 5.\")\n"
   ]
  },
  {
   "cell_type": "markdown",
   "metadata": {},
   "source": [
    "\n",
    "In this case, since `x` is not greater than 5, the `else` block is executed.\n"
   ]
  },
  {
   "cell_type": "markdown",
   "metadata": {},
   "source": [
    "## <a id='toc3_'></a>[The `elif` Statement](#toc0_)\n"
   ]
  },
  {
   "cell_type": "markdown",
   "metadata": {},
   "source": [
    "The `elif` keyword, short for \"else if,\" allows for more than two possible outcomes. It is used after an `if` statement and before an `else` statement to check additional conditions.\n"
   ]
  },
  {
   "cell_type": "code",
   "execution_count": 3,
   "metadata": {},
   "outputs": [
    {
     "name": "stdout",
     "output_type": "stream",
     "text": [
      "x is less than or equal to 10.\n"
     ]
    }
   ],
   "source": [
    "# if-elif-else statement example\n",
    "x = 10\n",
    "if x > 15:\n",
    "    print(\"x is greater than 15.\")\n",
    "elif x > 10:\n",
    "    print(\"x is greater than 10 but not greater than 15.\")\n",
    "else:\n",
    "    print(\"x is less than or equal to 10.\")\n"
   ]
  },
  {
   "cell_type": "markdown",
   "metadata": {},
   "source": [
    "\n",
    "Here, `x` is equal to 10, so the last `else` block is executed. If `x` were, say, 12, the `elif` block would execute.\n"
   ]
  },
  {
   "cell_type": "markdown",
   "metadata": {},
   "source": [
    "## <a id='toc4_'></a>[Nested Conditional Statements](#toc0_)\n"
   ]
  },
  {
   "cell_type": "markdown",
   "metadata": {},
   "source": [
    "Conditional statements can be nested within each other. This allows for complex decision-making processes where the outcome depends on multiple conditions.\n"
   ]
  },
  {
   "cell_type": "code",
   "execution_count": 4,
   "metadata": {},
   "outputs": [
    {
     "name": "stdout",
     "output_type": "stream",
     "text": [
      "x is greater than 20.\n"
     ]
    }
   ],
   "source": [
    "# Nested if statement example\n",
    "x = 25\n",
    "if x > 10:\n",
    "    if x > 20:\n",
    "        print(\"x is greater than 20.\")\n",
    "    else:\n",
    "        print(\"x is greater than 10 but not greater than 20.\")\n",
    "else:\n",
    "    print(\"x is less than or equal to 10.\")\n"
   ]
  },
  {
   "cell_type": "markdown",
   "metadata": {},
   "source": [
    "\n",
    "In this example, there are two levels of decision-making based on the value of `x`.\n"
   ]
  },
  {
   "cell_type": "markdown",
   "metadata": {},
   "source": [
    "## <a id='toc5_'></a>[Conditional Expressions (Ternary Operator)](#toc0_)\n"
   ]
  },
  {
   "cell_type": "markdown",
   "metadata": {},
   "source": [
    "Python supports a condensed way of writing simple `if-else` statements, known as conditional expressions or the ternary operator.\n"
   ]
  },
  {
   "cell_type": "code",
   "execution_count": 5,
   "metadata": {},
   "outputs": [
    {
     "name": "stdout",
     "output_type": "stream",
     "text": [
      "Greater than 5\n"
     ]
    }
   ],
   "source": [
    "# Conditional expression example\n",
    "x = 10\n",
    "result = \"Greater than 5\" if x > 5 else \"Less than or equal to 5\"\n",
    "print(result)"
   ]
  },
  {
   "cell_type": "markdown",
   "metadata": {},
   "source": [
    "\n",
    "This one-liner is often used for simple conditional assignments.\n"
   ]
  },
  {
   "cell_type": "markdown",
   "metadata": {},
   "source": [
    "## <a id='toc6_'></a>[Best Practices](#toc0_)\n"
   ]
  },
  {
   "cell_type": "markdown",
   "metadata": {},
   "source": [
    "When using conditional statements, keep the following best practices in mind:\n",
    "\n",
    "- Keep your conditions simple and readable. Complex conditions can be broken down into multiple simpler `if` statements or by using boolean variables.\n",
    "- Avoid nested conditions when possible. They can make your code hard to read and maintain.\n",
    "- Use the ternary operator for simple conditional assignments to make your code more concise.\n",
    "- Always consider whether your conditional branches cover all possible cases to prevent unexpected behavior.\n"
   ]
  },
  {
   "cell_type": "markdown",
   "metadata": {},
   "source": [
    "## <a id='toc7_'></a>[Conclusion](#toc0_)\n"
   ]
  },
  {
   "cell_type": "markdown",
   "metadata": {},
   "source": [
    "Conditional statements are a powerful part of Python that allow you to control the flow of your program's execution. By using `if`, `elif`, and `else` statements effectively, you can ensure that your code responds appropriately to different conditions. In the next lectures, we'll explore how loops work in Python, further expanding your ability to control the flow of execution in your programs."
   ]
  },
  {
   "cell_type": "markdown",
   "metadata": {},
   "source": [
    "## <a id='toc8_'></a>[Exercise: Basic Movie Ticket Pricing](#toc0_)"
   ]
  },
  {
   "cell_type": "markdown",
   "metadata": {},
   "source": [
    "You are creating a Python program for a movie theater to determine the ticket price based on the customer's age. The pricing rules are as follows:\n",
    "\n",
    "1. The regular ticket price is $10.\n",
    "2. Children under 14 years old get a 50% discount.\n",
    "3. Seniors aged 65 and above get a 30% discount.\n"
   ]
  },
  {
   "cell_type": "markdown",
   "metadata": {},
   "source": [
    "Write a Python program that:\n",
    "\n",
    "1. Asks the user for their age.\n",
    "2. Calculates and prints the ticket price according to the above rules.\n"
   ]
  },
  {
   "cell_type": "markdown",
   "metadata": {},
   "source": [
    "**Instructions:**\n",
    "\n",
    "1. Use the `input()` function to prompt the user for their age.\n",
    "2. Convert the input into an integer using `int()`.\n",
    "3. Determine the ticket price using an `if-elif-else` structure.\n",
    "4. Print out the final ticket price with a message.\n"
   ]
  },
  {
   "cell_type": "markdown",
   "metadata": {},
   "source": [
    "### <a id='toc8_1_'></a>[Solution](#toc0_)"
   ]
  },
  {
   "cell_type": "markdown",
   "metadata": {},
   "source": [
    "Before looking at the solution, try the exercise yourself! If you get stuck or want to check your work, use the solution below."
   ]
  },
  {
   "cell_type": "code",
   "execution_count": 6,
   "metadata": {},
   "outputs": [
    {
     "name": "stdout",
     "output_type": "stream",
     "text": [
      "The ticket price is $10.0\n"
     ]
    }
   ],
   "source": [
    "# Ask for the user's age\n",
    "age = int(input(\"Enter your age: \"))\n",
    "\n",
    "# Regular ticket price\n",
    "ticket_price = 10.00\n",
    "\n",
    "# Check the age and apply discounts if applicable\n",
    "if age < 14:\n",
    "    ticket_price *= 0.5  # Apply 50% discount\n",
    "elif age >= 65:\n",
    "    ticket_price *= 0.7  # Apply 30% discount\n",
    "\n",
    "# Print the final ticket price\n",
    "print(f\"The ticket price is ${ticket_price}\")"
   ]
  },
  {
   "cell_type": "markdown",
   "metadata": {},
   "source": [
    "\n",
    "This solution covers the basic control flow using conditional statements to determine the ticket price based on the user's age. It's a straightforward exercise that helps reinforce the concept of conditional logic in Python."
   ]
  }
 ],
 "metadata": {
  "kernelspec": {
   "display_name": "py310",
   "language": "python",
   "name": "python3"
  },
  "language_info": {
   "codemirror_mode": {
    "name": "ipython",
    "version": 3
   },
   "file_extension": ".py",
   "mimetype": "text/x-python",
   "name": "python",
   "nbconvert_exporter": "python",
   "pygments_lexer": "ipython3",
   "version": "3.10.12"
  }
 },
 "nbformat": 4,
 "nbformat_minor": 2
}
