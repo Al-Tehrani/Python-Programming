{
 "cells": [
  {
   "attachments": {},
   "cell_type": "markdown",
   "metadata": {},
   "source": [
    "<img src=\"./images/banner.png\" width=\"800\">"
   ]
  },
  {
   "cell_type": "markdown",
   "metadata": {},
   "source": [
    "# Installing Conda and Benefits of Using a Package Manager\n"
   ]
  },
  {
   "cell_type": "markdown",
   "metadata": {},
   "source": [
    "\n",
    "In this section, we will walk you through the process of installing Conda, a popular package manager and environment management system. We recommend using Miniconda, which is a lightweight version of Anaconda. The installation steps provided below will ensure that you have the necessary tools to create and manage Python environments effectively.\n"
   ]
  },
  {
   "cell_type": "markdown",
   "metadata": {},
   "source": [
    "**Table of contents**<a id='toc0_'></a>    \n",
    "- [Benefits of Using a Package Manager](#toc1_)    \n",
    "- [Installing Miniconda](#toc2_)    \n",
    "  - [Installing miniconda with Command Line](#toc2_1_)    \n",
    "    - [Linux and Windows Subsystem for Linux (WSL)](#toc2_1_1_)    \n",
    "    - [macOS](#toc2_1_2_)    \n",
    "    - [Step by Step Installation Guide for Installing Conda with Command Line](#toc2_1_3_)    \n",
    "- [Conclusion](#toc3_)    \n",
    "\n",
    "<!-- vscode-jupyter-toc-config\n",
    "\tnumbering=false\n",
    "\tanchor=true\n",
    "\tflat=false\n",
    "\tminLevel=2\n",
    "\tmaxLevel=6\n",
    "\t/vscode-jupyter-toc-config -->\n",
    "<!-- THIS CELL WILL BE REPLACED ON TOC UPDATE. DO NOT WRITE YOUR TEXT IN THIS CELL -->"
   ]
  },
  {
   "cell_type": "markdown",
   "metadata": {},
   "source": [
    "\n",
    "## <a id='toc1_'></a>[Benefits of Using a Package Manager](#toc0_)\n"
   ]
  },
  {
   "cell_type": "markdown",
   "metadata": {},
   "source": [
    "<img src=\"./images/conda-python.jpg\" width=\"500\">"
   ]
  },
  {
   "cell_type": "markdown",
   "metadata": {},
   "source": [
    "When writing Python code, developers often need to use additional libraries, also known as packages, to perform specific tasks. These packages provide pre-built functionalities and save developers from reinventing the wheel. However, managing these packages can become complex, especially when different projects require different versions of the same package or when packages have dependencies on other packages."
   ]
  },
  {
   "cell_type": "markdown",
   "metadata": {},
   "source": [
    "To address these challenges, Python developers use environments and package managers:\n",
    "\n",
    "- **Environment**: An environment is like a self-contained workspace for a Python project. It allows developers to isolate their project from the global Python installation and other projects. This isolation helps avoid conflicts between different projects that might rely on different package versions or have conflicting dependencies.\n",
    "\n",
    "- **Package Manager**: A package manager is a tool that simplifies the process of installing, updating, and removing packages within a specific environment. It keeps track of package versions and ensures that the required packages are available to the project when needed.\n",
    "\n",
    "- **Package Versions**: Packages can have multiple versions, each with its own set of features, bug fixes, and changes. However, not all projects may be compatible with the latest versions of packages they rely on. Therefore, it's crucial to manage specific package versions to maintain code stability and prevent unexpected behavior."
   ]
  },
  {
   "cell_type": "markdown",
   "metadata": {},
   "source": [
    "**Conda as a Solution:**\n",
    "\n",
    "In our scenario with Person #1 and Person #2, Person #1 uses Conda as the package manager for their Python project. Here's how Conda helps:\n",
    "\n",
    "- **Person #1's Computer (Conda Environment)**: Person #1 creates a Conda environment specifically for their project. Within this environment, Conda ensures that the required packages (Package_A, Package_B, and Package_C) are installed with the correct versions. This isolation guarantees that Person #1's code runs smoothly and consistently, regardless of other packages installed on their computer.\n",
    "\n",
    "- **Person #2's Computer (Non-Conda Environment)**: Person #2 doesn't use Conda and might have a different set of packages installed, including Package_A. When they try to run Person #1's code without setting up a similar environment, issues arise. The code may fail due to missing dependencies (Package_B and Package_C) that are required for the code to work correctly."
   ]
  },
  {
   "cell_type": "markdown",
   "metadata": {},
   "source": [
    "**Code Portability and Reproducibility:**\n",
    "\n",
    "By using Conda and environments, Python developers achieve code portability and reproducibility. Portability means that the code can be easily shared and run on different computers, as long as the recipient sets up the same Conda environment. Reproducibility ensures that the code will behave consistently over time, even if package versions change, as Conda keeps track of dependencies and versions within the environment."
   ]
  },
  {
   "cell_type": "markdown",
   "metadata": {},
   "source": [
    "<img src=\"./images/conda-environments.png\" width=\"800\">"
   ]
  },
  {
   "cell_type": "markdown",
   "metadata": {},
   "source": [
    "\n",
    "A package manager, such as Conda, provides several benefits for Python development:\n"
   ]
  },
  {
   "cell_type": "markdown",
   "metadata": {},
   "source": [
    "\n",
    "1. **Dependency management**: Package managers handle the installation, upgrading, and removal of packages and their dependencies. This eliminates the need to manually manage complex dependency chains, ensuring that your project's dependencies are correctly installed and compatible with each other.\n",
    "\n",
    "2. **Environment isolation**: With Conda, you can create isolated environments, also known as virtual environments, for your Python projects. Each environment can have its own set of packages and dependencies, enabling you to work on different projects with varying requirements without conflicts.\n",
    "\n",
    "3. **Reproducibility**: By specifying the exact versions of packages in your Conda environment, you can ensure that your project can be reproduced in the future. This is particularly useful when sharing code with others or when deploying your project on different machines.\n",
    "\n",
    "4. **Platform independence**: Conda works on multiple platforms, including Windows, macOS, and Linux. This allows you to seamlessly move your projects across different operating systems without worrying about compatibility issues.\n"
   ]
  },
  {
   "cell_type": "markdown",
   "metadata": {},
   "source": [
    "While there are other Python package managers like `pip` and `poetry`, which is the standard package manager for Python, and other specialized package managers for specific use cases, we've selected Conda for its robust features, strong dependency management, and extensive support for scientific computing and data science projects."
   ]
  },
  {
   "cell_type": "markdown",
   "metadata": {},
   "source": [
    "\n",
    "By installing Miniconda and leveraging the power of Conda, you will have a robust package manager at your disposal. In the upcoming sections, we will use Conda to install Python and required packages, enabling you to create a tailored and efficient Python development environment.\n"
   ]
  },
  {
   "cell_type": "markdown",
   "metadata": {},
   "source": [
    "\n",
    "## <a id='toc2_'></a>[Installing Miniconda](#toc0_)\n"
   ]
  },
  {
   "attachments": {},
   "cell_type": "markdown",
   "metadata": {},
   "source": [
    "<img src=\"./images/conda-miniconda-anaconda.png\" width=\"500\">"
   ]
  },
  {
   "cell_type": "markdown",
   "metadata": {},
   "source": [
    "### <a id='toc2_1_'></a>[Installing miniconda with Command Line](#toc0_)"
   ]
  },
  {
   "cell_type": "markdown",
   "metadata": {},
   "source": [
    "The command-line installation of Conda involves downloading and running a script specific to your operating system. Let's go through the installation process for each OS."
   ]
  },
  {
   "cell_type": "markdown",
   "metadata": {},
   "source": [
    "#### <a id='toc2_1_1_'></a>[Linux and Windows Subsystem for Linux (WSL)](#toc0_)\n"
   ]
  },
  {
   "cell_type": "markdown",
   "metadata": {},
   "source": [
    "\n",
    "WSL allows you to run a Linux distribution alongside your Windows OS. To install Conda in WSL, follow these steps:\n",
    "\n",
    "a. Open your WSL terminal (e.g., Ubuntu) and update the package lists:\n",
    "```bash\n",
    "sudo apt update\n",
    "```\n",
    "\n",
    "b. Download the Miniconda installer for Linux using `wget`:\n",
    "```bash\n",
    "wget https://repo.anaconda.com/miniconda/Miniconda3-latest-Linux-x86_64.sh\n",
    "```\n",
    "\n",
    "c. Run the installation script and follow the prompts:\n",
    "```bash\n",
    "bash Miniconda3-latest-Linux-x86_64.sh\n",
    "```"
   ]
  },
  {
   "cell_type": "markdown",
   "metadata": {},
   "source": [
    "#### <a id='toc2_1_2_'></a>[macOS](#toc0_)"
   ]
  },
  {
   "cell_type": "markdown",
   "metadata": {},
   "source": [
    "To install Conda on Intel-based macOS, you can follow these steps:\n",
    "\n",
    "a. Open your terminal and download the Miniconda installer for macOS (Intel):\n",
    "```bash\n",
    "curl -O https://repo.anaconda.com/miniconda/Miniconda3-latest-MacOSX-x86_64.sh\n",
    "```\n",
    "\n",
    "or for macOS (Apple Silicon):\n",
    "```bash\n",
    "curl -O https://repo.anaconda.com/miniconda/Miniconda3-latest-MacOSX-arm64.sh\n",
    "```\n",
    "\n",
    "\n",
    "b. Run the installation script and follow the prompts:\n",
    "```bash\n",
    "bash Miniconda3-latest-MacOSX-x86_64.sh\n",
    "```\n",
    "\n",
    "or for macOS (Apple Silicon):\n",
    "```bash\n",
    "bash Miniconda3-latest-MacOSX-arm64.sh\n",
    "```"
   ]
  },
  {
   "cell_type": "markdown",
   "metadata": {},
   "source": [
    "#### <a id='toc2_1_3_'></a>[Step by Step Installation Guide for Installing Conda with Command Line](#toc0_)"
   ]
  },
  {
   "cell_type": "markdown",
   "metadata": {},
   "source": [
    "**Step 1: Download Conda with wget (in Linux) or Curl (macOS)**"
   ]
  },
  {
   "cell_type": "markdown",
   "metadata": {},
   "source": [
    "<img src=\"./images/00-conda-download.png\" width=\"500\">"
   ]
  },
  {
   "cell_type": "markdown",
   "metadata": {},
   "source": [
    "<img src=\"./images/00-conda-download-mac.png\" width=\"500\">"
   ]
  },
  {
   "cell_type": "markdown",
   "metadata": {},
   "source": [
    "\n",
    "- Open your terminal or command prompt.\n",
    "- Use the `wget`/`curl` command to download the Conda installer script.\n",
    "- Example:\n",
    "  - Linux/WSL: `wget https://repo.anaconda.com/miniconda/Miniconda3-latest-Linux-x86_64.sh`\n",
    "  - MacOS (Intel): `curl -O https://repo.anaconda.com/miniconda/Miniconda3-latest-MacOSX-x86_64.sh`\n",
    "  - MacOS (Apple Silicon)`curl -O https://repo.anaconda.com/miniconda/Miniconda3-latest-MacOSX-arm64.sh`"
   ]
  },
  {
   "cell_type": "markdown",
   "metadata": {},
   "source": [
    "\n",
    "**Step 2: Start Conda Installation with Bash**\n"
   ]
  },
  {
   "cell_type": "markdown",
   "metadata": {},
   "source": [
    "<img src=\"./images/01-conda-install-start.png\" width=\"500\">"
   ]
  },
  {
   "cell_type": "markdown",
   "metadata": {},
   "source": [
    "<img src=\"./images/01-conda-install-start-mac.png\" width=\"500\">"
   ]
  },
  {
   "cell_type": "markdown",
   "metadata": {},
   "source": [
    "\n",
    "- After downloading the installer, begin the installation by running the bash script.\n",
    "- Example: `bash Miniconda3-latest-Linux-x86_64.sh`\n"
   ]
  },
  {
   "cell_type": "markdown",
   "metadata": {},
   "source": [
    "\n",
    "**Step 3: Skip Conda License with Space Key**\n"
   ]
  },
  {
   "cell_type": "markdown",
   "metadata": {},
   "source": [
    "<img src=\"./images/02-conda-license-skip.png\" width=\"500\">"
   ]
  },
  {
   "cell_type": "markdown",
   "metadata": {},
   "source": [
    "\n",
    "- The License Agreement will be displayed.\n",
    "- Press the space key to scroll through the License Agreement quickly.\n"
   ]
  },
  {
   "cell_type": "markdown",
   "metadata": {},
   "source": [
    "\n",
    "**Step 4: Accept Conda License**\n"
   ]
  },
  {
   "cell_type": "markdown",
   "metadata": {},
   "source": [
    "<img src=\"./images/03-conda-license.png\" width=\"500\">"
   ]
  },
  {
   "cell_type": "markdown",
   "metadata": {},
   "source": [
    "\n",
    "- After scrolling through the License Agreement, you will be prompted to accept it.\n",
    "- Type 'yes' (without quotes) to accept the License Agreement.\n"
   ]
  },
  {
   "cell_type": "markdown",
   "metadata": {},
   "source": [
    "\n",
    "**Step 5: Set Conda Installation Path**\n"
   ]
  },
  {
   "cell_type": "markdown",
   "metadata": {},
   "source": [
    "<img src=\"./images/04-conda-installation-path.png\" width=\"500\">\n"
   ]
  },
  {
   "cell_type": "markdown",
   "metadata": {},
   "source": [
    "\n",
    "- Choose the installation path for Conda.\n",
    "- Press 'Enter' to accept the default location or specify a custom path.\n"
   ]
  },
  {
   "cell_type": "markdown",
   "metadata": {},
   "source": [
    "\n",
    "**Step 6: Conda Init Setup and Its Importance**\n"
   ]
  },
  {
   "cell_type": "markdown",
   "metadata": {},
   "source": [
    "<img src=\"./images/05-init-conda.png\" width=\"500\">"
   ]
  },
  {
   "cell_type": "markdown",
   "metadata": {},
   "source": [
    "\n",
    "- You will be asked whether to initialize Conda.\n",
    "- Type 'yes' (without quotes) to initialize Conda.\n",
    "- Conda initialization sets up necessary configurations to recognize 'conda' commands in the terminal.\n"
   ]
  },
  {
   "cell_type": "markdown",
   "metadata": {},
   "source": [
    "\n",
    "**Important Note:**\n"
   ]
  },
  {
   "cell_type": "markdown",
   "metadata": {},
   "source": [
    "- If you choose not to initialize Conda by typing 'no', the 'conda' command won't work in the terminal.\n",
    "- To fix this, you will need to manually run `conda init` after the installation.\n"
   ]
  },
  {
   "cell_type": "markdown",
   "metadata": {},
   "source": [
    "\n",
    "**Step 7: Final Image of Conda Setup**\n"
   ]
  },
  {
   "cell_type": "markdown",
   "metadata": {},
   "source": [
    "<img src=\"./images/06-conda-setup-finished.png\" width=\"500\">"
   ]
  },
  {
   "cell_type": "markdown",
   "metadata": {},
   "source": [
    "\n",
    "- The installation process is now complete.\n",
    "- You have successfully installed Conda on your system.\n"
   ]
  },
  {
   "cell_type": "markdown",
   "metadata": {},
   "source": [
    "\n",
    "**Step 8: Check Installation by Running Conda --version**\n"
   ]
  },
  {
   "cell_type": "markdown",
   "metadata": {},
   "source": [
    "<img src=\"./images/07-conda-version.png\" width=\"500\">"
   ]
  },
  {
   "cell_type": "markdown",
   "metadata": {},
   "source": [
    "\n",
    "- To verify the installation, open a new terminal or command prompt.\n",
    "- Type `conda --version` and press 'Enter'.\n",
    "- If installed correctly, it will display the Conda version number.\n"
   ]
  },
  {
   "cell_type": "markdown",
   "metadata": {},
   "source": [
    "By following these step-by-step images and instructions, you have successfully installed Conda on your system. Conda is now ready to manage Python packages and create virtual environments for your Python projects. Enjoy the power of Conda for seamless Python development!\n"
   ]
  },
  {
   "cell_type": "markdown",
   "metadata": {},
   "source": [
    "**Why Choose Command-Line Installation:**\n",
    "\n",
    "Here are some reasons why installing Conda via the command line is preferred:\n",
    "\n",
    "1. **Control and Flexibility:** Command-line installation allows you to customize the installation, choose installation paths, and set environment variables as needed.\n",
    "\n",
    "2. **Faster and Scriptable:** Command-line installations are often faster and can be easily automated using scripts, making them ideal for automated deployments and reproducibility.\n",
    "\n",
    "3. **Lightweight:** Command-line installations (e.g., Miniconda) provide a minimal installation, giving you more control over the packages you want to install, reducing disk space usage.\n",
    "\n",
    "4. **Compatibility:** Command-line installations work on remote servers and headless systems, where graphical interfaces are not available.\n"
   ]
  },
  {
   "cell_type": "markdown",
   "metadata": {},
   "source": [
    "🔫 Watch [Instagram Video](https://www.instagram.com/reel/CtR8GVZgxaK/?igshid=MzRlODBiNWFlZA%3D%3D)"
   ]
  },
  {
   "cell_type": "markdown",
   "metadata": {},
   "source": [
    "## <a id='toc3_'></a>[Conclusion](#toc0_)"
   ]
  },
  {
   "cell_type": "markdown",
   "metadata": {},
   "source": [
    "\n",
    "In summary, Conda is a powerful package manager that provides an efficient way to manage package dependencies and ensure code compatibility across different computers and projects. By creating isolated environments and handling package versions, Conda helps Python developers collaborate seamlessly, deploy projects reliably, and maintain code stability over time. Its ability to handle complex package requirements makes it a valuable tool in the Python ecosystem."
   ]
  }
 ],
 "metadata": {
  "kernelspec": {
   "display_name": "base",
   "language": "python",
   "name": "python3"
  },
  "language_info": {
   "name": "python",
   "version": "3.10.10"
  },
  "orig_nbformat": 4
 },
 "nbformat": 4,
 "nbformat_minor": 2
}
