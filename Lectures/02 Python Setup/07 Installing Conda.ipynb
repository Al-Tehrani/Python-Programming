{
 "cells": [
  {
   "attachments": {},
   "cell_type": "markdown",
   "metadata": {},
   "source": [
    "<img src=\"./images/banner.png\" width=\"800\">"
   ]
  },
  {
   "cell_type": "markdown",
   "metadata": {},
   "source": [
    "# Installing Conda and Benefits of Using a Package Manager\n"
   ]
  },
  {
   "cell_type": "markdown",
   "metadata": {},
   "source": [
    "\n",
    "In this section, we will walk you through the process of installing Conda, a popular package manager and environment management system. We recommend using Miniconda, which is a lightweight version of Anaconda. The installation steps provided below will ensure that you have the necessary tools to create and manage Python environments effectively.\n"
   ]
  },
  {
   "cell_type": "markdown",
   "metadata": {},
   "source": [
    "**Table of contents**<a id='toc0_'></a>    \n",
    "- [Installing Miniconda](#toc1_)    \n",
    "- [Benefits of Using a Package Manager](#toc2_)    \n",
    "\n",
    "<!-- vscode-jupyter-toc-config\n",
    "\tnumbering=false\n",
    "\tanchor=true\n",
    "\tflat=false\n",
    "\tminLevel=2\n",
    "\tmaxLevel=6\n",
    "\t/vscode-jupyter-toc-config -->\n",
    "<!-- THIS CELL WILL BE REPLACED ON TOC UPDATE. DO NOT WRITE YOUR TEXT IN THIS CELL -->"
   ]
  },
  {
   "cell_type": "markdown",
   "metadata": {},
   "source": [
    "\n",
    "## <a id='toc2_'></a>[Benefits of Using a Package Manager](#toc0_)\n"
   ]
  },
  {
   "cell_type": "markdown",
   "metadata": {},
   "source": [
    "<img src=\"./images/conda-python.jpg\" width=\"500\">"
   ]
  },
  {
   "cell_type": "markdown",
   "metadata": {},
   "source": [
    "Conda is a powerful package manager for Python that helps ensure code runs smoothly on different computers. Let's consider Person #1 and Person #2 in our scenario.\n",
    "\n",
    "Person #1 develops Python code with specific package dependencies (Package_A, Package_B, and Package_C) and uses Conda to manage their Python environment. Conda creates an isolated environment with the required packages.\n",
    "\n",
    "Person #2 also has the code but doesn't use Conda. They have different packages installed, including Package_A, but lack Package_B and Package_C.\n",
    "\n",
    "On Person #1's computer (Conda environment), the code runs smoothly due to the required packages being present. However, on Person #2's computer (non-Conda environment), the code encounters issues due to missing dependencies.\n",
    "\n",
    "Conda's role is vital in ensuring code portability. By creating isolated environments with specific packages, Conda allows code to work consistently across different computers. This makes sharing and deploying Python projects much easier and ensures compatibility even if others don't use Conda, provided they recreate the same Conda environment."
   ]
  },
  {
   "cell_type": "markdown",
   "metadata": {},
   "source": [
    "<img src=\"./images/conda-environments.png\" width=\"800\">"
   ]
  },
  {
   "cell_type": "markdown",
   "metadata": {},
   "source": [
    "\n",
    "A package manager, such as Conda, provides several benefits for Python development:\n"
   ]
  },
  {
   "cell_type": "markdown",
   "metadata": {},
   "source": [
    "\n",
    "1. **Dependency management**: Package managers handle the installation, upgrading, and removal of packages and their dependencies. This eliminates the need to manually manage complex dependency chains, ensuring that your project's dependencies are correctly installed and compatible with each other.\n",
    "\n",
    "2. **Environment isolation**: With Conda, you can create isolated environments, also known as virtual environments, for your Python projects. Each environment can have its own set of packages and dependencies, enabling you to work on different projects with varying requirements without conflicts.\n",
    "\n",
    "3. **Reproducibility**: By specifying the exact versions of packages in your Conda environment, you can ensure that your project can be reproduced in the future. This is particularly useful when sharing code with others or when deploying your project on different machines.\n",
    "\n",
    "4. **Platform independence**: Conda works on multiple platforms, including Windows, macOS, and Linux. This allows you to seamlessly move your projects across different operating systems without worrying about compatibility issues.\n"
   ]
  },
  {
   "cell_type": "markdown",
   "metadata": {},
   "source": [
    "\n",
    "By installing Miniconda and leveraging the power of Conda, you will have a robust package manager at your disposal. In the upcoming sections, we will use Conda to install Python and required packages, enabling you to create a tailored and efficient Python development environment.\n"
   ]
  },
  {
   "cell_type": "markdown",
   "metadata": {},
   "source": [
    "\n",
    "## <a id='toc1_'></a>[Installing Miniconda](#toc0_)\n"
   ]
  },
  {
   "attachments": {},
   "cell_type": "markdown",
   "metadata": {},
   "source": [
    "<img src=\"./images/conda-miniconda-anaconda.png\" width=\"500\">"
   ]
  },
  {
   "cell_type": "markdown",
   "metadata": {},
   "source": [
    "\n",
    "1. Visit the [Miniconda website](https://docs.conda.io/en/latest/miniconda.html) and download the appropriate version of Miniconda for your operating system.\n",
    "\n",
    "2. Follow the installation instructions specific to your operating system. The process may involve running an installer executable and agreeing to the license terms.\n",
    "\n",
    "3. During the installation, you may be prompted to select the installation location and add Miniconda to your system's PATH variable. We recommend selecting the default options unless you have specific requirements.\n",
    "\n",
    "4. Once the installation is complete, it is important to **restart your terminal or command prompt window**. This step ensures that the changes made during the installation are recognized by the terminal and that you can use the `conda` command.\n"
   ]
  },
  {
   "cell_type": "markdown",
   "metadata": {},
   "source": [
    "🔫 Watch [Instagram Video](https://www.instagram.com/reel/CtR8GVZgxaK/?igshid=MzRlODBiNWFlZA%3D%3D)"
   ]
  }
 ],
 "metadata": {
  "language_info": {
   "name": "python"
  },
  "orig_nbformat": 4
 },
 "nbformat": 4,
 "nbformat_minor": 2
}
