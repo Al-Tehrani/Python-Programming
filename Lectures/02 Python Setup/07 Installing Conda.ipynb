{
 "cells": [
  {
   "attachments": {},
   "cell_type": "markdown",
   "metadata": {},
   "source": [
    "<img src=\"./images/banner.png\" width=\"800\">"
   ]
  },
  {
   "cell_type": "markdown",
   "metadata": {},
   "source": [
    "# Installing Conda and Benefits of Using a Package Manager\n"
   ]
  },
  {
   "cell_type": "markdown",
   "metadata": {},
   "source": [
    "\n",
    "In this section, we will walk you through the process of installing Conda, a popular package manager and environment management system. We recommend using Miniconda, which is a lightweight version of Anaconda. The installation steps provided below will ensure that you have the necessary tools to create and manage Python environments effectively.\n"
   ]
  },
  {
   "cell_type": "markdown",
   "metadata": {},
   "source": [
    "**Table of contents**<a id='toc0_'></a>    \n",
    "- [Benefits of Using a Package Manager](#toc1_)    \n",
    "- [Installing Miniconda](#toc2_)    \n",
    "- [Conclusion](#toc3_)    \n",
    "\n",
    "<!-- vscode-jupyter-toc-config\n",
    "\tnumbering=false\n",
    "\tanchor=true\n",
    "\tflat=false\n",
    "\tminLevel=2\n",
    "\tmaxLevel=6\n",
    "\t/vscode-jupyter-toc-config -->\n",
    "<!-- THIS CELL WILL BE REPLACED ON TOC UPDATE. DO NOT WRITE YOUR TEXT IN THIS CELL -->"
   ]
  },
  {
   "cell_type": "markdown",
   "metadata": {},
   "source": [
    "\n",
    "## <a id='toc1_'></a>[Benefits of Using a Package Manager](#toc0_)\n"
   ]
  },
  {
   "cell_type": "markdown",
   "metadata": {},
   "source": [
    "<img src=\"./images/conda-python.jpg\" width=\"500\">"
   ]
  },
  {
   "cell_type": "markdown",
   "metadata": {},
   "source": [
    "When writing Python code, developers often need to use additional libraries, also known as packages, to perform specific tasks. These packages provide pre-built functionalities and save developers from reinventing the wheel. However, managing these packages can become complex, especially when different projects require different versions of the same package or when packages have dependencies on other packages."
   ]
  },
  {
   "cell_type": "markdown",
   "metadata": {},
   "source": [
    "To address these challenges, Python developers use environments and package managers:\n",
    "\n",
    "- **Environment**: An environment is like a self-contained workspace for a Python project. It allows developers to isolate their project from the global Python installation and other projects. This isolation helps avoid conflicts between different projects that might rely on different package versions or have conflicting dependencies.\n",
    "\n",
    "- **Package Manager**: A package manager is a tool that simplifies the process of installing, updating, and removing packages within a specific environment. It keeps track of package versions and ensures that the required packages are available to the project when needed.\n",
    "\n",
    "- **Package Versions**: Packages can have multiple versions, each with its own set of features, bug fixes, and changes. However, not all projects may be compatible with the latest versions of packages they rely on. Therefore, it's crucial to manage specific package versions to maintain code stability and prevent unexpected behavior."
   ]
  },
  {
   "cell_type": "markdown",
   "metadata": {},
   "source": [
    "**Conda as a Solution:**\n",
    "\n",
    "In our scenario with Person #1 and Person #2, Person #1 uses Conda as the package manager for their Python project. Here's how Conda helps:\n",
    "\n",
    "- **Person #1's Computer (Conda Environment)**: Person #1 creates a Conda environment specifically for their project. Within this environment, Conda ensures that the required packages (Package_A, Package_B, and Package_C) are installed with the correct versions. This isolation guarantees that Person #1's code runs smoothly and consistently, regardless of other packages installed on their computer.\n",
    "\n",
    "- **Person #2's Computer (Non-Conda Environment)**: Person #2 doesn't use Conda and might have a different set of packages installed, including Package_A. When they try to run Person #1's code without setting up a similar environment, issues arise. The code may fail due to missing dependencies (Package_B and Package_C) that are required for the code to work correctly."
   ]
  },
  {
   "cell_type": "markdown",
   "metadata": {},
   "source": [
    "**Code Portability and Reproducibility:**\n",
    "\n",
    "By using Conda and environments, Python developers achieve code portability and reproducibility. Portability means that the code can be easily shared and run on different computers, as long as the recipient sets up the same Conda environment. Reproducibility ensures that the code will behave consistently over time, even if package versions change, as Conda keeps track of dependencies and versions within the environment."
   ]
  },
  {
   "cell_type": "markdown",
   "metadata": {},
   "source": [
    "<img src=\"./images/conda-environments.png\" width=\"800\">"
   ]
  },
  {
   "cell_type": "markdown",
   "metadata": {},
   "source": [
    "\n",
    "A package manager, such as Conda, provides several benefits for Python development:\n"
   ]
  },
  {
   "cell_type": "markdown",
   "metadata": {},
   "source": [
    "\n",
    "1. **Dependency management**: Package managers handle the installation, upgrading, and removal of packages and their dependencies. This eliminates the need to manually manage complex dependency chains, ensuring that your project's dependencies are correctly installed and compatible with each other.\n",
    "\n",
    "2. **Environment isolation**: With Conda, you can create isolated environments, also known as virtual environments, for your Python projects. Each environment can have its own set of packages and dependencies, enabling you to work on different projects with varying requirements without conflicts.\n",
    "\n",
    "3. **Reproducibility**: By specifying the exact versions of packages in your Conda environment, you can ensure that your project can be reproduced in the future. This is particularly useful when sharing code with others or when deploying your project on different machines.\n",
    "\n",
    "4. **Platform independence**: Conda works on multiple platforms, including Windows, macOS, and Linux. This allows you to seamlessly move your projects across different operating systems without worrying about compatibility issues.\n"
   ]
  },
  {
   "cell_type": "markdown",
   "metadata": {},
   "source": [
    "\n",
    "By installing Miniconda and leveraging the power of Conda, you will have a robust package manager at your disposal. In the upcoming sections, we will use Conda to install Python and required packages, enabling you to create a tailored and efficient Python development environment.\n"
   ]
  },
  {
   "cell_type": "markdown",
   "metadata": {},
   "source": [
    "\n",
    "## <a id='toc2_'></a>[Installing Miniconda](#toc0_)\n"
   ]
  },
  {
   "attachments": {},
   "cell_type": "markdown",
   "metadata": {},
   "source": [
    "<img src=\"./images/conda-miniconda-anaconda.png\" width=\"500\">"
   ]
  },
  {
   "cell_type": "markdown",
   "metadata": {},
   "source": [
    "\n",
    "1. Visit the [Miniconda website](https://docs.conda.io/en/latest/miniconda.html) and download the appropriate version of Miniconda for your operating system.\n",
    "\n",
    "2. Follow the installation instructions specific to your operating system. The process may involve running an installer executable and agreeing to the license terms.\n",
    "\n",
    "3. During the installation, you may be prompted to select the installation location and add Miniconda to your system's PATH variable. We recommend selecting the default options unless you have specific requirements.\n",
    "\n",
    "4. Once the installation is complete, it is important to **restart your terminal or command prompt window**. This step ensures that the changes made during the installation are recognized by the terminal and that you can use the `conda` command.\n"
   ]
  },
  {
   "cell_type": "markdown",
   "metadata": {},
   "source": [
    "🔫 Watch [Instagram Video](https://www.instagram.com/reel/CtR8GVZgxaK/?igshid=MzRlODBiNWFlZA%3D%3D)"
   ]
  },
  {
   "cell_type": "markdown",
   "metadata": {},
   "source": [
    "## <a id='toc3_'></a>[Conclusion](#toc0_)"
   ]
  },
  {
   "cell_type": "markdown",
   "metadata": {},
   "source": [
    "\n",
    "In summary, Conda is a powerful package manager that provides an efficient way to manage package dependencies and ensure code compatibility across different computers and projects. By creating isolated environments and handling package versions, Conda helps Python developers collaborate seamlessly, deploy projects reliably, and maintain code stability over time. Its ability to handle complex package requirements makes it a valuable tool in the Python ecosystem."
   ]
  }
 ],
 "metadata": {
  "language_info": {
   "name": "python"
  },
  "orig_nbformat": 4
 },
 "nbformat": 4,
 "nbformat_minor": 2
}
