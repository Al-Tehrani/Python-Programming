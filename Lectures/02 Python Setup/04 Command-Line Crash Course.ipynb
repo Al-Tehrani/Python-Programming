{
 "cells": [
  {
   "cell_type": "markdown",
   "metadata": {},
   "source": [
    "<img src=\"./images/banner.png\" width=\"800\">"
   ]
  },
  {
   "cell_type": "markdown",
   "metadata": {},
   "source": [
    "# Introduction to the Terminal\n"
   ]
  },
  {
   "cell_type": "markdown",
   "metadata": {},
   "source": [
    "In this section, we will explore the terminal, also known as the command-line interface (CLI). The terminal is a powerful tool that allows you to interact with your computer using text-based commands. As a Python developer, understanding and using the terminal is essential for tasks such as running scripts, managing files, and executing various development tools.\n"
   ]
  },
  {
   "cell_type": "markdown",
   "metadata": {},
   "source": [
    "## Why is the Terminal Important?\n"
   ]
  },
  {
   "cell_type": "markdown",
   "metadata": {},
   "source": [
    "The terminal offers several advantages for developers:\n",
    "\n",
    "- **Efficiency**: Performing tasks through commands can be faster than using a graphical user interface (GUI) for certain operations.\n",
    "- **Flexibility**: The terminal provides access to a wide range of tools and utilities, allowing you to perform complex operations and customization.\n",
    "- **Automation**: By combining commands and scripting, you can automate repetitive tasks and create powerful workflows.\n"
   ]
  },
  {
   "cell_type": "markdown",
   "metadata": {},
   "source": [
    "## Navigating the File System\n"
   ]
  },
  {
   "cell_type": "markdown",
   "metadata": {},
   "source": [
    "Before diving into the terminal commands, let's start with basic navigation. You'll need to understand how to move around the file system to work effectively.\n",
    "\n",
    "- `cd` (change directory) allows you to move between directories.\n",
    "  - Example: `cd Documents` (Moves to the \"Documents\" directory).\n",
    "\n",
    "- `ls` (list) displays the files and directories in the current directory.\n",
    "  - Example: `ls` (Lists files and directories in the current directory).\n",
    "\n",
    "- `pwd` (print working directory) shows the current directory's path.\n",
    "  - Example: `pwd` (Displays the path of the current directory).\n"
   ]
  },
  {
   "cell_type": "markdown",
   "metadata": {},
   "source": [
    "## Working with Files and Directories\n"
   ]
  },
  {
   "cell_type": "markdown",
   "metadata": {},
   "source": [
    "Creating, managing, and manipulating files and directories is a fundamental part of working with the terminal.\n",
    "\n",
    "- `mkdir` creates directories.\n",
    "  - Example: `mkdir new_directory` (Creates a new directory named \"new_directory\").\n",
    "\n",
    "- `touch` creates files.\n",
    "  - Example: `touch new_file.txt` (Creates a new file named \"new_file.txt\").\n",
    "\n",
    "- `rm` removes files and directories.\n",
    "  - Example: `rm file.txt` (Removes the file \"file.txt\").\n",
    "\n",
    "- `rmdir` removes empty directories.\n",
    "  - Example: `rmdir empty_directory` (Removes the empty directory \"empty_directory\").\n",
    "\n",
    "- `cp` copies files and directories.\n",
    "  - Example: `cp file.txt copy_file.txt` (Creates a copy of \"file.txt\" named \"copy_file.txt\").\n",
    "\n",
    "- `mv` moves or renames files and directories.\n",
    "  - Example: `mv file.txt new_directory/` (Moves the file \"file.txt\" to the \"new_directory\" directory).\n",
    "  - Example: `mv file.txt renamed_file.txt` (Renames \"file.txt\" to \"renamed_file.txt\").\n"
   ]
  },
  {
   "cell_type": "markdown",
   "metadata": {},
   "source": [
    "## File Manipulation and Viewing\n"
   ]
  },
  {
   "cell_type": "markdown",
   "metadata": {},
   "source": [
    "Text editing, file content viewing, and searching within files are common tasks in the terminal.\n",
    "\n",
    "- Use a text editor like `nano` or `vim` to edit files.\n",
    "  - Example: `nano file.txt` (Opens \"file.txt\" in the Nano text editor).\n",
    "\n",
    "- `cat` or `less` displays file content in the terminal.\n",
    "  - Example: `cat file.txt` (Displays the contents of \"file.txt\" in the terminal).\n",
    "\n",
    "- `grep` searches for specific patterns in files.\n",
    "  - Example: `grep \"keyword\" file.txt` (Searches for the \"keyword\" within \"file.txt\").\n"
   ]
  },
  {
   "cell_type": "markdown",
   "metadata": {},
   "source": [
    "## Additional Useful Commands\n"
   ]
  },
  {
   "cell_type": "markdown",
   "metadata": {},
   "source": [
    "Besides file management, there are many other handy terminal commands to explore:\n",
    "\n",
    "- `man` displays manual pages for commands.\n",
    "  - Example: `man ls` (Displays the manual page for the `ls` command).\n",
    "\n",
    "- `history` shows your command history.\n",
    "  - Example: `history` (Displays a list of recently executed commands).\n",
    "\n",
    "- `clear` clears the terminal screen.\n",
    "  - Example: `clear` (Clears the terminal screen).\n",
    "\n",
    "- `grep` searches for specific patterns in files.\n",
    "  - Example: `grep \"keyword\" file.txt` (Searches for the \"keyword\" within \"file.txt\").\n",
    "\n",
    "- `wget` downloads files from the web.\n",
    "  - Example: `wget http://example.com/file.txt` (Downloads \"file.txt\" from the web).\n",
    "\n",
    "- `curl` transfers data to or from a server.\n",
    "  - Example: `curl -o file.txt http://example.com/file.txt` (Downloads \"file.txt\" from the web using cURL).\n"
   ]
  },
  {
   "cell_type": "markdown",
   "metadata": {},
   "source": [
    "## Shell Customization\n"
   ]
  },
  {
   "cell_type": "markdown",
   "metadata": {},
   "source": [
    "Customizing your terminal environment can enhance your productivity and make the terminal more enjoyable to use.\n",
    "\n",
    "- Customize the terminal prompt to display useful information.\n",
    "- Create aliases for frequently used commands.\n",
    "- Set environment variables to configure your shell.\n"
   ]
  },
  {
   "cell_type": "markdown",
   "metadata": {},
   "source": [
    "## Tips and Tricks\n"
   ]
  },
  {
   "cell_type": "markdown",
   "metadata": {},
   "source": [
    "Finally, we'll share some tips and tricks to help you become more efficient and effective in the terminal. These insights can significantly improve your workflow and productivity.\n"
   ]
  },
  {
   "cell_type": "markdown",
   "metadata": {},
   "source": [
    "Remember to practice and experiment with the commands as you learn them. The terminal is a powerful tool, and gaining proficiency will greatly benefit you as a Python developer.\n"
   ]
  },
  {
   "cell_type": "markdown",
   "metadata": {},
   "source": [
    "Now, let's jump in and start exploring the world of terminal commands!"
   ]
  },
  {
   "cell_type": "markdown",
   "metadata": {},
   "source": []
  }
 ],
 "metadata": {
  "language_info": {
   "name": "python"
  },
  "orig_nbformat": 4
 },
 "nbformat": 4,
 "nbformat_minor": 2
}
