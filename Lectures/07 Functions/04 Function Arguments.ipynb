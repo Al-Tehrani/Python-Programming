{
 "cells": [
  {
   "cell_type": "markdown",
   "metadata": {},
   "source": [
    "<img src=\"./images/banner.png\" width=\"800\">"
   ]
  },
  {
   "cell_type": "markdown",
   "metadata": {},
   "source": [
    "# Understanding Function Arguments"
   ]
  },
  {
   "cell_type": "markdown",
   "metadata": {},
   "source": [
    "In the previous lecture, we explored the various types of function parameters and how they are defined within a function to create flexible and modular code. Now, we shift our focus to the other side of the equation: function arguments. Arguments are the actual values you pass to a function when you call it. They correspond to the function's parameters and are crucial for passing data into the function for processing.\n"
   ]
  },
  {
   "cell_type": "markdown",
   "metadata": {},
   "source": [
    "To recap, parameters are the named entities in a function definition that specify what kind of input the function can accept. For example, in the function definition `def add(a, b):`, `a` and `b` are parameters.\n"
   ]
  },
  {
   "cell_type": "markdown",
   "metadata": {},
   "source": [
    "Arguments, on the other hand, are the real values or data that you provide to the function when you invoke it. Using the `add` function example, if you call `add(2, 3)`, the values `2` and `3` are the arguments.\n"
   ]
  },
  {
   "cell_type": "markdown",
   "metadata": {},
   "source": [
    "<img src=\"./images/parameters-arguments.png\" width=\"600\">"
   ]
  },
  {
   "cell_type": "markdown",
   "metadata": {},
   "source": [
    "**The Role of Arguments in Functions:**\n",
    "\n",
    "Arguments are what make functions dynamic. By passing different arguments to the same function, you can alter the function's behavior and output. This allows for a high degree of code reusability, as the same function can be called multiple times with different arguments to perform its operation on various sets of data.\n"
   ]
  },
  {
   "cell_type": "markdown",
   "metadata": {},
   "source": [
    "In essence, parameters define a blueprint for the inputs that a function can accept, while arguments are the actual inputs that you provide when you run the function. Understanding how to effectively pass arguments to functions is key to utilizing the full power and flexibility that functions offer in programming.\n"
   ]
  },
  {
   "cell_type": "markdown",
   "metadata": {},
   "source": [
    "In this lecture, we will explore the different ways in which arguments can be passed to functions, including positional and keyword arguments, and how to use them to their maximum potential. We'll also discuss how arguments interact with parameters, the behavior of mutable versus immutable arguments, and best practices for using arguments in your functions.\n"
   ]
  },
  {
   "cell_type": "markdown",
   "metadata": {},
   "source": [
    "By the end of this lecture, you will have a thorough understanding of how to work with function arguments and how to use them to make your functions versatile and robust."
   ]
  },
  {
   "cell_type": "markdown",
   "metadata": {},
   "source": [
    "**Table of contents**<a id='toc0_'></a>    \n",
    "- [Positional Arguments](#toc1_)    \n",
    "  - [Relationship with Parameters](#toc1_1_)    \n",
    "  - [Importance of Order and Position](#toc1_2_)    \n",
    "  - [Practical Examples](#toc1_3_)    \n",
    "- [Keyword Arguments](#toc2_)    \n",
    "  - [Definition and Advantages](#toc2_1_)    \n",
    "  - [How to Use Keyword Arguments](#toc2_2_)    \n",
    "  - [Examples](#toc2_3_)    \n",
    "- [Unpacking Arguments](#toc3_)    \n",
    "  - [The `*` Operator for Unpacking Positional Arguments](#toc3_1_)    \n",
    "  - [The `**` Operator for Unpacking Keyword Arguments](#toc3_2_)    \n",
    "  - [Practical Use Cases](#toc3_3_)    \n",
    "- [Mutable vs Immutable Argument Behavior](#toc4_)    \n",
    "  - [Mutable Arguments](#toc4_1_)    \n",
    "  - [Immutable Arguments](#toc4_2_)    \n",
    "  - [Side Effects and Best Practices](#toc4_3_)    \n",
    "- [Best Practices for Using Arguments](#toc5_)    \n",
    "  - [Recommendations for When to Use Positional vs. Keyword Arguments](#toc5_1_)    \n",
    "  - [Tips for Maintaining Function Calls Clarity](#toc5_2_)    \n",
    "  - [Examples](#toc5_3_)    \n",
    "- [Exercise: Mastering Python Function Arguments](#toc6_)    \n",
    "\n",
    "<!-- vscode-jupyter-toc-config\n",
    "\tnumbering=false\n",
    "\tanchor=true\n",
    "\tflat=false\n",
    "\tminLevel=2\n",
    "\tmaxLevel=6\n",
    "\t/vscode-jupyter-toc-config -->\n",
    "<!-- THIS CELL WILL BE REPLACED ON TOC UPDATE. DO NOT WRITE YOUR TEXT IN THIS CELL -->"
   ]
  },
  {
   "cell_type": "markdown",
   "metadata": {},
   "source": [
    "## <a id='toc1_'></a>[Positional Arguments](#toc0_)"
   ]
  },
  {
   "cell_type": "markdown",
   "metadata": {},
   "source": [
    "Positional arguments are the most basic form of arguments in Python functions. They are matched with function parameters based on their position in the function call. The first positional argument gets assigned to the first parameter, the second argument to the second parameter, and so on. This order-dependent matching is why they are called \"positional\" arguments.\n"
   ]
  },
  {
   "cell_type": "markdown",
   "metadata": {},
   "source": [
    "### <a id='toc1_1_'></a>[Relationship with Parameters](#toc0_)\n"
   ]
  },
  {
   "cell_type": "markdown",
   "metadata": {},
   "source": [
    "The relationship between positional arguments and parameters is straightforward: each argument is bound to a parameter in the same order that it appears in the function call. This means that the function definition must be designed to accept the correct number and order of arguments that the caller will provide.\n"
   ]
  },
  {
   "cell_type": "markdown",
   "metadata": {},
   "source": [
    "Consider the following function definition:\n"
   ]
  },
  {
   "cell_type": "code",
   "execution_count": 1,
   "metadata": {},
   "outputs": [],
   "source": [
    "def divide(dividend, divisor):\n",
    "    return dividend / divisor"
   ]
  },
  {
   "cell_type": "markdown",
   "metadata": {},
   "source": [
    "Here, `dividend` and `divisor` are parameters. When calling the function, you must provide two positional arguments that correspond to these parameters:\n"
   ]
  },
  {
   "cell_type": "code",
   "execution_count": 2,
   "metadata": {},
   "outputs": [
    {
     "data": {
      "text/plain": [
       "5.0"
      ]
     },
     "execution_count": 2,
     "metadata": {},
     "output_type": "execute_result"
    }
   ],
   "source": [
    "divide(10, 2)  # Correct use of positional arguments"
   ]
  },
  {
   "cell_type": "markdown",
   "metadata": {},
   "source": [
    "In this call, `10` is the first positional argument corresponding to `dividend`, and `2` is the second positional argument corresponding to `divisor`. The function will then proceed to divide `10` by `2`.\n"
   ]
  },
  {
   "cell_type": "markdown",
   "metadata": {},
   "source": [
    "### <a id='toc1_2_'></a>[Importance of Order and Position](#toc0_)\n"
   ]
  },
  {
   "cell_type": "markdown",
   "metadata": {},
   "source": [
    "The order in which you pass positional arguments is crucial. If you were to reverse the arguments in the previous example:\n"
   ]
  },
  {
   "cell_type": "code",
   "execution_count": 3,
   "metadata": {},
   "outputs": [
    {
     "data": {
      "text/plain": [
       "0.2"
      ]
     },
     "execution_count": 3,
     "metadata": {},
     "output_type": "execute_result"
    }
   ],
   "source": [
    "divide(2, 10)  # Reversed arguments"
   ]
  },
  {
   "cell_type": "markdown",
   "metadata": {},
   "source": [
    "The function would divide `2` by `10`, which is not the same as dividing `10` by `2`. The order of the arguments determines how they are used within the function, and thus, the output of the function.\n"
   ]
  },
  {
   "cell_type": "markdown",
   "metadata": {},
   "source": [
    "It is also important to provide the correct number of positional arguments expected by the function. Omitting an argument or providing too many will result in a `TypeError`.\n"
   ]
  },
  {
   "cell_type": "code",
   "execution_count": 4,
   "metadata": {},
   "outputs": [
    {
     "ename": "TypeError",
     "evalue": "divide() missing 1 required positional argument: 'divisor'",
     "output_type": "error",
     "traceback": [
      "\u001b[0;31m---------------------------------------------------------------------------\u001b[0m",
      "\u001b[0;31mTypeError\u001b[0m                                 Traceback (most recent call last)",
      "Cell \u001b[0;32mIn[4], line 1\u001b[0m\n\u001b[0;32m----> 1\u001b[0m \u001b[43mdivide\u001b[49m\u001b[43m(\u001b[49m\u001b[38;5;241;43m10\u001b[39;49m\u001b[43m)\u001b[49m  \u001b[38;5;66;03m# Missing a positional argument, results in TypeError\u001b[39;00m\n",
      "\u001b[0;31mTypeError\u001b[0m: divide() missing 1 required positional argument: 'divisor'"
     ]
    }
   ],
   "source": [
    "divide(10)  # Missing a positional argument, results in TypeError"
   ]
  },
  {
   "cell_type": "markdown",
   "metadata": {},
   "source": [
    "### <a id='toc1_3_'></a>[Practical Examples](#toc0_)\n"
   ]
  },
  {
   "cell_type": "markdown",
   "metadata": {},
   "source": [
    "Positional arguments are ideal for functions where the meaning of the arguments is clear from context, and the order of the arguments is logical and intuitive. For example:\n"
   ]
  },
  {
   "cell_type": "code",
   "execution_count": 5,
   "metadata": {},
   "outputs": [],
   "source": [
    "def create_point(x, y, z):\n",
    "    return {'x': x, 'y': y, 'z': z}"
   ]
  },
  {
   "cell_type": "code",
   "execution_count": 6,
   "metadata": {},
   "outputs": [
    {
     "data": {
      "text/plain": [
       "{'x': 1, 'y': 2, 'z': 3}"
      ]
     },
     "execution_count": 6,
     "metadata": {},
     "output_type": "execute_result"
    }
   ],
   "source": [
    "create_point(1, 2, 3)  # x=1, y=2, z=3"
   ]
  },
  {
   "cell_type": "markdown",
   "metadata": {},
   "source": [
    "Understanding positional arguments is essential for using functions correctly. They are simple and efficient when the function's purpose and the arguments' roles are clear. Always be mindful of the order of parameters in the function definition and ensure that you call the function with arguments in the corresponding order. This way, you can avoid unexpected behavior and errors in your code."
   ]
  },
  {
   "cell_type": "markdown",
   "metadata": {},
   "source": [
    "## <a id='toc2_'></a>[Keyword Arguments](#toc0_)"
   ]
  },
  {
   "cell_type": "markdown",
   "metadata": {},
   "source": [
    "Keyword arguments are a feature in Python that allows you to pass arguments to functions by explicitly stating which parameter each argument corresponds to. Unlike positional arguments, where the order of the arguments matters, keyword arguments enable you to pass arguments in any order because they are matched by name, not by position.\n"
   ]
  },
  {
   "cell_type": "markdown",
   "metadata": {},
   "source": [
    "### <a id='toc2_1_'></a>[Definition and Advantages](#toc0_)\n"
   ]
  },
  {
   "cell_type": "markdown",
   "metadata": {},
   "source": [
    "Keyword arguments are identified by the parameter name followed by an equal sign (`=`) and the value to be assigned to that parameter. One of the main advantages of using keyword arguments is clarity. By naming each argument, you make it obvious what each one represents, which makes your code more readable and maintainable.\n"
   ]
  },
  {
   "cell_type": "markdown",
   "metadata": {},
   "source": [
    "Another advantage is the flexibility of argument order. Since you explicitly state which parameter each argument is for, you can rearrange the order of the arguments in a function call without affecting the behavior of the function.\n"
   ]
  },
  {
   "cell_type": "markdown",
   "metadata": {},
   "source": [
    "Keyword arguments also work well with default parameters. When a function has parameters with default values, you can use keyword arguments to override only the defaults you want to change and leave the rest as is.\n"
   ]
  },
  {
   "cell_type": "markdown",
   "metadata": {},
   "source": [
    "### <a id='toc2_2_'></a>[How to Use Keyword Arguments](#toc0_)\n"
   ]
  },
  {
   "cell_type": "markdown",
   "metadata": {},
   "source": [
    "To use keyword arguments, include the parameter's name followed by an equal sign and the value when calling the function.\n"
   ]
  },
  {
   "cell_type": "markdown",
   "metadata": {},
   "source": [
    "Here's a basic function that uses both positional and keyword arguments:\n"
   ]
  },
  {
   "cell_type": "code",
   "execution_count": 7,
   "metadata": {},
   "outputs": [],
   "source": [
    "def enroll_student(name, course, level='beginner'):\n",
    "    print(f\"Enrolling {name} in {course} course as a {level} student.\")\n"
   ]
  },
  {
   "cell_type": "code",
   "execution_count": 8,
   "metadata": {},
   "outputs": [
    {
     "name": "stdout",
     "output_type": "stream",
     "text": [
      "Enrolling Alice in Python course as a intermediate student.\n"
     ]
    }
   ],
   "source": [
    "# Using keyword arguments to call the function\n",
    "enroll_student(name=\"Alice\", course=\"Python\", level=\"intermediate\")"
   ]
  },
  {
   "cell_type": "markdown",
   "metadata": {},
   "source": [
    "In this example, `name` and `course` are positional parameters, while `level` is a parameter with a default value. The function call uses keyword arguments for all three parameters, though it wasn't strictly necessary for `name` and `course`. However, by using keyword arguments, the code becomes clearer and less prone to errors caused by mixing up the order of the arguments.\n"
   ]
  },
  {
   "cell_type": "markdown",
   "metadata": {},
   "source": [
    "### <a id='toc2_3_'></a>[Examples](#toc0_)\n"
   ]
  },
  {
   "cell_type": "markdown",
   "metadata": {},
   "source": [
    "Consider a function with multiple parameters, some of which have default values:\n"
   ]
  },
  {
   "cell_type": "code",
   "execution_count": 9,
   "metadata": {},
   "outputs": [],
   "source": [
    "def configure_network(interface, ip, netmask='255.255.255.0', gateway=None):\n",
    "    # Function body\n",
    "    pass\n"
   ]
  },
  {
   "cell_type": "code",
   "execution_count": 10,
   "metadata": {},
   "outputs": [],
   "source": [
    "# Calling the function with keyword arguments\n",
    "configure_network(\n",
    "    interface='eth0',\n",
    "    ip='192.168.1.10',\n",
    "    gateway='192.168.1.1'\n",
    ")"
   ]
  },
  {
   "cell_type": "markdown",
   "metadata": {},
   "source": [
    "In this `configure_network` function, `interface` and `ip` are positional parameters, while `netmask` has a default value, and `gateway` is optional. The function call uses keyword arguments to specify the `interface`, `ip`, and `gateway`. The `netmask` parameter is not included in the call, so it will use the default value.\n"
   ]
  },
  {
   "cell_type": "markdown",
   "metadata": {},
   "source": [
    "Keyword arguments are particularly useful for functions with many parameters, especially when some parameters have default values or are optional. They enhance the readability and flexibility of function calls, making it easier to understand what each argument represents and reducing the likelihood of supplying them in the wrong order. When writing your own functions, consider how keyword arguments can make your code more expressive and user-friendly."
   ]
  },
  {
   "cell_type": "markdown",
   "metadata": {},
   "source": [
    "## <a id='toc3_'></a>[Unpacking Arguments](#toc0_)"
   ]
  },
  {
   "cell_type": "markdown",
   "metadata": {},
   "source": [
    "Unpacking arguments in Python refers to the process of taking a collection of values, such as a list, tuple, or dictionary, and passing them to a function as individual arguments. The `*` operator is used for unpacking positional arguments from lists or tuples, while the `**` operator is used for unpacking keyword arguments from dictionaries.\n"
   ]
  },
  {
   "cell_type": "markdown",
   "metadata": {},
   "source": [
    "### <a id='toc3_1_'></a>[The `*` Operator for Unpacking Positional Arguments](#toc0_)\n"
   ]
  },
  {
   "cell_type": "markdown",
   "metadata": {},
   "source": [
    "When you have a list or tuple of values and you want to pass them to a function as separate positional arguments, you can use the `*` operator in the function call. This operator takes a sequence and expands it into individual arguments in the call.\n"
   ]
  },
  {
   "cell_type": "markdown",
   "metadata": {},
   "source": [
    "Here's how you can use the `*` operator:\n"
   ]
  },
  {
   "cell_type": "code",
   "execution_count": 11,
   "metadata": {},
   "outputs": [],
   "source": [
    "def add_three_numbers(a, b, c):\n",
    "    return a + b + c"
   ]
  },
  {
   "cell_type": "code",
   "execution_count": 12,
   "metadata": {},
   "outputs": [],
   "source": [
    "numbers = [1, 2, 3]"
   ]
  },
  {
   "cell_type": "code",
   "execution_count": 13,
   "metadata": {},
   "outputs": [
    {
     "data": {
      "text/plain": [
       "6"
      ]
     },
     "execution_count": 13,
     "metadata": {},
     "output_type": "execute_result"
    }
   ],
   "source": [
    "# Unpacking the list of numbers into the function as individual arguments\n",
    "add_three_numbers(*numbers)"
   ]
  },
  {
   "cell_type": "markdown",
   "metadata": {},
   "source": [
    "In this example, the `*numbers` expression unpacks the list into three separate arguments, which are then passed to the `add_three_numbers` function as `a`, `b`, and `c`.\n"
   ]
  },
  {
   "cell_type": "markdown",
   "metadata": {},
   "source": [
    "### <a id='toc3_2_'></a>[The `**` Operator for Unpacking Keyword Arguments](#toc0_)\n"
   ]
  },
  {
   "cell_type": "markdown",
   "metadata": {},
   "source": [
    "The `**` operator is similar to the `*` operator but is used for dictionaries. It unpacks the dictionary's keys and values into separate keyword arguments.\n"
   ]
  },
  {
   "cell_type": "markdown",
   "metadata": {},
   "source": [
    "Here's an example of using the `**` operator:\n"
   ]
  },
  {
   "cell_type": "code",
   "execution_count": 14,
   "metadata": {},
   "outputs": [],
   "source": [
    "def create_profile(name, age, job):\n",
    "    print(f\"Name: {name}\")\n",
    "    print(f\"Age: {age}\")\n",
    "    print(f\"Job: {job}\")"
   ]
  },
  {
   "cell_type": "code",
   "execution_count": 15,
   "metadata": {},
   "outputs": [],
   "source": [
    "profile_info = {'name': 'Alice', 'age': 30, 'job': 'Engineer'}"
   ]
  },
  {
   "cell_type": "code",
   "execution_count": 16,
   "metadata": {},
   "outputs": [
    {
     "name": "stdout",
     "output_type": "stream",
     "text": [
      "Name: Alice\n",
      "Age: 30\n",
      "Job: Engineer\n"
     ]
    }
   ],
   "source": [
    "# Unpacking the dictionary into the function as keyword arguments\n",
    "create_profile(**profile_info)"
   ]
  },
  {
   "cell_type": "markdown",
   "metadata": {},
   "source": [
    "In this `create_profile` function call, `**profile_info` unpacks the dictionary so that each key-value pair is passed as a keyword argument. The dictionary's keys must match the parameter names in the function definition for this to work correctly.\n"
   ]
  },
  {
   "cell_type": "markdown",
   "metadata": {},
   "source": [
    "### <a id='toc3_3_'></a>[Practical Use Cases](#toc0_)\n"
   ]
  },
  {
   "cell_type": "markdown",
   "metadata": {},
   "source": [
    "Unpacking arguments is particularly handy when you have a collection of values that you want to pass to a function without having to manually extract each one. It's also useful when you want to pass a dynamic set of arguments to a function that accepts a variable number of arguments.\n"
   ]
  },
  {
   "cell_type": "markdown",
   "metadata": {},
   "source": [
    "For example, you can use unpacking with functions that use the `*args` and `**kwargs` syntax:\n"
   ]
  },
  {
   "cell_type": "code",
   "execution_count": 17,
   "metadata": {},
   "outputs": [],
   "source": [
    "def print_coordinates(*args, **kwargs):\n",
    "    for arg in args:\n",
    "        print(arg)\n",
    "    for key in kwargs:\n",
    "        print(f\"{key}: {kwargs[key]}\")"
   ]
  },
  {
   "cell_type": "code",
   "execution_count": 18,
   "metadata": {},
   "outputs": [],
   "source": [
    "coords = (1, 2, 3)\n",
    "info = {'x': 'latitude', 'y': 'longitude', 'z': 'altitude'}"
   ]
  },
  {
   "cell_type": "code",
   "execution_count": 19,
   "metadata": {},
   "outputs": [
    {
     "name": "stdout",
     "output_type": "stream",
     "text": [
      "1\n",
      "2\n",
      "3\n",
      "x: latitude\n",
      "y: longitude\n",
      "z: altitude\n"
     ]
    }
   ],
   "source": [
    "print_coordinates(*coords, **info)"
   ]
  },
  {
   "cell_type": "markdown",
   "metadata": {},
   "source": [
    "In this `print_coordinates` function, `*coords` unpacks the tuple into individual positional arguments, and `**info` unpacks the dictionary into individual keyword arguments.\n"
   ]
  },
  {
   "cell_type": "markdown",
   "metadata": {},
   "source": [
    "Unpacking arguments with `*` and `**` can make your function calls more flexible and your code more concise. They allow you to pass multiple arguments to a function directly from a sequence or mapping, which can be especially convenient when working with collections of data that need to be processed by a function."
   ]
  },
  {
   "cell_type": "markdown",
   "metadata": {},
   "source": [
    "## <a id='toc4_'></a>[Mutable vs Immutable Argument Behavior](#toc0_)"
   ]
  },
  {
   "cell_type": "markdown",
   "metadata": {},
   "source": [
    "In Python, understanding the distinction between mutable and immutable data types is critical when passing arguments to functions. This distinction affects how changes to arguments inside the function body are reflected outside the function.\n"
   ]
  },
  {
   "cell_type": "markdown",
   "metadata": {},
   "source": [
    "### <a id='toc4_1_'></a>[Mutable Arguments](#toc0_)\n"
   ]
  },
  {
   "cell_type": "markdown",
   "metadata": {},
   "source": [
    "Mutable objects can be changed after they are created. Lists, dictionaries, sets, and most user-defined classes are mutable. When you pass a mutable object as an argument to a function, the function receives a reference to the original object. Any changes made to this object within the function affect the original object outside the function.\n"
   ]
  },
  {
   "cell_type": "markdown",
   "metadata": {},
   "source": [
    "Here's an example with a list (a mutable object):\n"
   ]
  },
  {
   "cell_type": "code",
   "execution_count": 20,
   "metadata": {},
   "outputs": [],
   "source": [
    "def add_item_to_list(item, target_list):\n",
    "    target_list.append(item)\n",
    "    return target_list"
   ]
  },
  {
   "cell_type": "code",
   "execution_count": 21,
   "metadata": {},
   "outputs": [
    {
     "data": {
      "text/plain": [
       "[1, 2, 3, 4]"
      ]
     },
     "execution_count": 21,
     "metadata": {},
     "output_type": "execute_result"
    }
   ],
   "source": [
    "my_list = [1, 2, 3]\n",
    "add_item_to_list(4, my_list)"
   ]
  },
  {
   "cell_type": "markdown",
   "metadata": {},
   "source": [
    "In this example, `my_list` is mutated inside `add_item_to_list` by appending an item. The change is reflected in the original list.\n"
   ]
  },
  {
   "cell_type": "markdown",
   "metadata": {},
   "source": [
    "### <a id='toc4_2_'></a>[Immutable Arguments](#toc0_)\n"
   ]
  },
  {
   "cell_type": "markdown",
   "metadata": {},
   "source": [
    "Immutable objects cannot be changed after they are created. Integers, floats, strings, and tuples are immutable. When an immutable object is passed as an argument to a function, any attempt to alter that object will create a new object in memory instead of modifying the original object. Changes made within the function do not affect the original object.\n"
   ]
  },
  {
   "cell_type": "markdown",
   "metadata": {},
   "source": [
    "Here's an example with an integer (an immutable object):\n"
   ]
  },
  {
   "cell_type": "code",
   "execution_count": 22,
   "metadata": {},
   "outputs": [],
   "source": [
    "def increment(number):\n",
    "    number += 1\n",
    "    return number"
   ]
  },
  {
   "cell_type": "code",
   "execution_count": 23,
   "metadata": {},
   "outputs": [],
   "source": [
    "value = 7\n",
    "new_value = increment(value)"
   ]
  },
  {
   "cell_type": "code",
   "execution_count": 24,
   "metadata": {},
   "outputs": [
    {
     "data": {
      "text/plain": [
       "(7, 8)"
      ]
     },
     "execution_count": 24,
     "metadata": {},
     "output_type": "execute_result"
    }
   ],
   "source": [
    "value, new_value"
   ]
  },
  {
   "cell_type": "markdown",
   "metadata": {},
   "source": [
    "In this example, the `value` variable is not changed by the `increment` function. Instead, the function creates and returns a new incremented value.\n"
   ]
  },
  {
   "cell_type": "markdown",
   "metadata": {},
   "source": [
    "### <a id='toc4_3_'></a>[Side Effects and Best Practices](#toc0_)\n"
   ]
  },
  {
   "cell_type": "markdown",
   "metadata": {},
   "source": [
    "When working with mutable objects, be aware of the potential for side effects. Changes made to the object within the function persist beyond the scope of the function, which can lead to bugs if not managed carefully.\n"
   ]
  },
  {
   "cell_type": "markdown",
   "metadata": {},
   "source": [
    "To avoid unintended side effects, you can:\n",
    "\n",
    "- Explicitly return the changed object and reassign it outside the function.\n",
    "- Make a copy of the mutable object before making changes.\n"
   ]
  },
  {
   "cell_type": "markdown",
   "metadata": {},
   "source": [
    "Here's how you can avoid side effects with mutable objects:\n"
   ]
  },
  {
   "cell_type": "code",
   "execution_count": 25,
   "metadata": {},
   "outputs": [],
   "source": [
    "def add_item_to_list(item, target_list=None):\n",
    "    if target_list is None:\n",
    "        target_list = []  # Create a new list if no list is provided\n",
    "    target_list.append(item)\n",
    "    return target_list"
   ]
  },
  {
   "cell_type": "code",
   "execution_count": 26,
   "metadata": {},
   "outputs": [],
   "source": [
    "my_list = [1, 2, 3]\n",
    "new_list = add_item_to_list(4, my_list.copy())  # Pass a copy of the list"
   ]
  },
  {
   "cell_type": "code",
   "execution_count": 27,
   "metadata": {},
   "outputs": [
    {
     "data": {
      "text/plain": [
       "[1, 2, 3]"
      ]
     },
     "execution_count": 27,
     "metadata": {},
     "output_type": "execute_result"
    }
   ],
   "source": [
    "my_list"
   ]
  },
  {
   "cell_type": "code",
   "execution_count": 28,
   "metadata": {},
   "outputs": [
    {
     "data": {
      "text/plain": [
       "[1, 2, 3, 4]"
      ]
     },
     "execution_count": 28,
     "metadata": {},
     "output_type": "execute_result"
    }
   ],
   "source": [
    "new_list"
   ]
  },
  {
   "cell_type": "markdown",
   "metadata": {},
   "source": [
    "In this modified example, `my_list` remains unchanged because `add_item_to_list` is given a copy of the list to modify.\n"
   ]
  },
  {
   "cell_type": "markdown",
   "metadata": {},
   "source": [
    "Understanding how mutable and immutable arguments behave in Python is vital for writing functions that behave as expected. By being mindful of the type of objects you're passing and the operations you perform on them, you can prevent unwanted side effects and ensure that your functions are safe and predictable in their behavior."
   ]
  },
  {
   "cell_type": "markdown",
   "metadata": {},
   "source": [
    "## <a id='toc5_'></a>[Best Practices for Using Arguments](#toc0_)"
   ]
  },
  {
   "cell_type": "markdown",
   "metadata": {},
   "source": [
    "When calling functions in Python, the arguments you provide are the inputs that the function will work with. Using arguments effectively can make your code more readable, maintainable, and less prone to errors. Here are some best practices for using arguments in your functions.\n"
   ]
  },
  {
   "cell_type": "markdown",
   "metadata": {},
   "source": [
    "### <a id='toc5_1_'></a>[Recommendations for When to Use Positional vs. Keyword Arguments](#toc0_)\n"
   ]
  },
  {
   "cell_type": "markdown",
   "metadata": {},
   "source": [
    "**Positional Arguments:**\n",
    "- Use positional arguments for required parameters that are few in number and have a clear and obvious order.\n",
    "- They are best suited for simple functions where the purpose of each argument is apparent, and the order is intuitive.\n"
   ]
  },
  {
   "cell_type": "markdown",
   "metadata": {},
   "source": [
    "**Keyword Arguments:**\n",
    "- Use keyword arguments when the function has many parameters, or when the purpose of the arguments is not immediately clear from context.\n",
    "- They are particularly useful when a function has optional or default parameters, as they allow you to specify only those you want to override.\n",
    "- Keyword arguments enhance the readability of the function calls, especially for boolean flags or other values with implicit meaning.\n"
   ]
  },
  {
   "cell_type": "markdown",
   "metadata": {},
   "source": [
    "### <a id='toc5_2_'></a>[Tips for Maintaining Function Calls Clarity](#toc0_)\n"
   ]
  },
  {
   "cell_type": "markdown",
   "metadata": {},
   "source": [
    "**Explicitness:**\n",
    "- Be explicit about what each argument represents. When the intention behind the argument isn't immediately clear from the value itself, consider using a keyword argument.\n",
    "- For example, calling `set_timer(300)` is less clear than `set_timer(seconds=300)`.\n"
   ]
  },
  {
   "cell_type": "markdown",
   "metadata": {},
   "source": [
    "**Consistency:**\n",
    "- Be consistent with how you use arguments across your codebase. If you start by using keyword arguments for certain functions, continue to do so to maintain readability and prevent confusion.\n"
   ]
  },
  {
   "cell_type": "markdown",
   "metadata": {},
   "source": [
    "**Avoiding Common Mistakes:**\n",
    "- When using mutable default arguments, make sure to use `None` as the default value and create the mutable object inside the function. This prevents the common mistake of sharing mutable defaults between function calls.\n",
    "- Do not use a keyword argument before positional arguments. This would lead to a syntax error.\n"
   ]
  },
  {
   "cell_type": "markdown",
   "metadata": {},
   "source": [
    "**Documentation:**\n",
    "- Document your functions to indicate what each parameter is for, especially if the function is complex or has many parameters.\n",
    "- Use type hints and docstrings to clarify the expected argument types and behaviors.\n"
   ]
  },
  {
   "cell_type": "markdown",
   "metadata": {},
   "source": [
    "### <a id='toc5_3_'></a>[Examples](#toc0_)\n"
   ]
  },
  {
   "cell_type": "markdown",
   "metadata": {},
   "source": [
    "Here are some examples illustrating the best practices:\n"
   ]
  },
  {
   "cell_type": "markdown",
   "metadata": {},
   "source": [
    "**Using Positional Arguments:**\n"
   ]
  },
  {
   "cell_type": "code",
   "execution_count": 29,
   "metadata": {},
   "outputs": [],
   "source": [
    "def calculate_distance(point1, point2):\n",
    "    # Implementation\n",
    "    pass\n"
   ]
  },
  {
   "cell_type": "code",
   "execution_count": 30,
   "metadata": {},
   "outputs": [],
   "source": [
    "# Clear and simple use of positional arguments\n",
    "calculate_distance((0, 0), (3, 4))"
   ]
  },
  {
   "cell_type": "markdown",
   "metadata": {},
   "source": [
    "**Using Keyword Arguments:**\n"
   ]
  },
  {
   "cell_type": "code",
   "execution_count": 31,
   "metadata": {},
   "outputs": [],
   "source": [
    "def create_user(username, password, is_admin=False, email=None):\n",
    "    # Implementation\n",
    "    pass\n"
   ]
  },
  {
   "cell_type": "code",
   "execution_count": 32,
   "metadata": {},
   "outputs": [],
   "source": [
    "# Using keyword arguments for clarity and to skip over default parameters\n",
    "create_user(\n",
    "    username=\"john_doe\",\n",
    "    password=\"secure_password\",\n",
    "    email=\"john@example.com\"\n",
    ")"
   ]
  },
  {
   "cell_type": "markdown",
   "metadata": {},
   "source": [
    "**Avoiding Mutable Default Arguments:**\n"
   ]
  },
  {
   "cell_type": "code",
   "execution_count": 33,
   "metadata": {},
   "outputs": [],
   "source": [
    "def append_to_list(value, target_list=None):\n",
    "    if target_list is None:\n",
    "        target_list = []\n",
    "    target_list.append(value)\n",
    "    return target_list\n"
   ]
  },
  {
   "cell_type": "code",
   "execution_count": 34,
   "metadata": {},
   "outputs": [
    {
     "data": {
      "text/plain": [
       "[4]"
      ]
     },
     "execution_count": 34,
     "metadata": {},
     "output_type": "execute_result"
    }
   ],
   "source": [
    "# Safe from unintended side effects\n",
    "append_to_list(4)"
   ]
  },
  {
   "cell_type": "markdown",
   "metadata": {},
   "source": [
    "By following these best practices, you can create code that communicates its intentions clearly and avoids common pitfalls associated with argument passing. Remember that the goal is to make your code easy to read and understand, both for others and for your future self. Use positional arguments for simplicity and keyword arguments for clarity, and always document your functions well."
   ]
  },
  {
   "cell_type": "markdown",
   "metadata": {},
   "source": [
    "<img src=\"../images/exercise-banner.gif\" width=\"800\">"
   ]
  },
  {
   "cell_type": "markdown",
   "metadata": {},
   "source": [
    "## <a id='toc6_'></a>[Practice Exercise](#toc0_)"
   ]
  },
  {
   "cell_type": "markdown",
   "metadata": {},
   "source": [
    "In this exercise, you'll apply your understanding of Python function arguments by writing and calling functions that demonstrate the use of positional arguments, keyword arguments, unpacking arguments, and the handling of mutable and immutable argument behavior.\n"
   ]
  },
  {
   "cell_type": "markdown",
   "metadata": {},
   "source": [
    "**Tasks:**\n",
    "\n",
    "1. **Positional Arguments in Action**:\n",
    "   Write a function named `describe_pet` that takes two positional arguments: `animal_type` and `pet_name`. The function should print a sentence describing the pet, incorporating both arguments. Then, call the function with different sets of positional arguments to describe various pets.\n",
    "\n",
    "2. **Utilizing Keyword Arguments**:\n",
    "   Modify the `describe_pet` function so that it has a default value for the `animal_type` parameter, with 'dog' as the default. Call the function using keyword arguments to describe a pet that is not a dog.\n",
    "\n",
    "3. **Unpacking Arguments from a Sequence**:\n",
    "   Create a list or tuple named `pet_info` that contains an `animal_type` and a `pet_name`. Write a function called `display_pet_info` that accepts two parameters and prints out the pet's information. Call the function by unpacking the `pet_info` sequence using the `*` operator.\n",
    "\n",
    "4. **Unpacking Keyword Arguments from a Dictionary**:\n",
    "   Define a dictionary named `pet_attributes` with keys that match the parameter names of the `describe_pet` function. The dictionary should contain an `animal_type` and a `pet_name`. Call `describe_pet` once again, this time unpacking the dictionary into keyword arguments using the `**` operator.\n",
    "\n",
    "5. **Mutable vs Immutable Argument Behavior**:\n",
    "   Write a function named `update_number_list` that takes a list of numbers as an argument and appends a new number to the list. Call the function with a list and then print the list to observe how it's changed. Repeat this process with a function that takes an immutable argument like a number or a string, and attempt to modify it within the function.\n",
    "\n",
    "6. **Best Practices for Using Arguments**:\n",
    "   Think of a real-world scenario where a function might require several arguments, and write a function to model that behavior. Call the function using both positional and keyword arguments, and demonstrate a situation where one method is clearer or more error-prone than the other.\n"
   ]
  },
  {
   "cell_type": "markdown",
   "metadata": {},
   "source": [
    "**Sample Code for Task 1:**\n"
   ]
  },
  {
   "cell_type": "code",
   "execution_count": 35,
   "metadata": {},
   "outputs": [],
   "source": [
    "def describe_pet(animal_type, pet_name):\n",
    "    pass\n",
    "\n",
    "describe_pet('hamster', 'Harry')\n",
    "describe_pet('fish', 'Finny')"
   ]
  },
  {
   "cell_type": "markdown",
   "metadata": {},
   "source": [
    "**Expected Output for Task 1:**\n",
    "```bash\n",
    "I have a hamster named Harry.\n",
    "I have a fish named Finny.\n",
    "```\n"
   ]
  },
  {
   "cell_type": "markdown",
   "metadata": {},
   "source": [
    "Complete each task using the knowledge you've gained from the lecture. Remember to think about the implications of each argument type on your function's behavior and to comment your code to explain which type of argument you are using and why. This exercise will help solidify your understanding of function arguments and how to use them effectively in Python."
   ]
  },
  {
   "cell_type": "markdown",
   "metadata": {},
   "source": [
    "### Solution"
   ]
  },
  {
   "cell_type": "markdown",
   "metadata": {},
   "source": [
    "Here's a solution for the exercise, fulfilling each of the specified tasks.\n"
   ]
  },
  {
   "cell_type": "code",
   "execution_count": 36,
   "metadata": {},
   "outputs": [
    {
     "name": "stdout",
     "output_type": "stream",
     "text": [
      "I have a hamster named Harry.\n",
      "I have a fish named Finny.\n"
     ]
    }
   ],
   "source": [
    "# Task 1: Positional Arguments in Action\n",
    "def describe_pet(animal_type, pet_name):\n",
    "    \"\"\"Print a description of a pet, including the type and name.\"\"\"\n",
    "    print(f\"I have a {animal_type} named {pet_name}.\")\n",
    "\n",
    "# Call the function with different sets of arguments\n",
    "describe_pet('hamster', 'Harry')\n",
    "describe_pet('fish', 'Finny')\n"
   ]
  },
  {
   "cell_type": "code",
   "execution_count": 37,
   "metadata": {},
   "outputs": [
    {
     "name": "stdout",
     "output_type": "stream",
     "text": [
      "I have a cat named Willow.\n"
     ]
    }
   ],
   "source": [
    "# Task 2: Utilizing Keyword Arguments\n",
    "def describe_pet(pet_name, animal_type='dog'):\n",
    "    \"\"\"Print a description of a pet, including the type and name.\"\"\"\n",
    "    print(f\"I have a {animal_type} named {pet_name}.\")\n",
    "\n",
    "# Call the function using keyword arguments\n",
    "describe_pet(pet_name='Willow', animal_type='cat')\n"
   ]
  },
  {
   "cell_type": "code",
   "execution_count": 38,
   "metadata": {},
   "outputs": [
    {
     "name": "stdout",
     "output_type": "stream",
     "text": [
      "I have a parrot named Polly.\n"
     ]
    }
   ],
   "source": [
    "# Task 3: Unpacking Arguments from a Sequence\n",
    "pet_info = ('parrot', 'Polly')\n",
    "\n",
    "def display_pet_info(animal_type, pet_name):\n",
    "    \"\"\"Print a description of a pet, including the type and name.\"\"\"\n",
    "    print(f\"I have a {animal_type} named {pet_name}.\")\n",
    "\n",
    "# Call the function by unpacking arguments\n",
    "display_pet_info(*pet_info)\n"
   ]
  },
  {
   "cell_type": "code",
   "execution_count": 39,
   "metadata": {},
   "outputs": [
    {
     "name": "stdout",
     "output_type": "stream",
     "text": [
      "I have a turtle named Shelly.\n"
     ]
    }
   ],
   "source": [
    "# Task 4: Unpacking Keyword Arguments from a Dictionary\n",
    "pet_attributes = {'animal_type': 'turtle', 'pet_name': 'Shelly'}\n",
    "\n",
    "# Call describe_pet by unpacking keyword arguments\n",
    "describe_pet(**pet_attributes)\n"
   ]
  },
  {
   "cell_type": "code",
   "execution_count": 40,
   "metadata": {},
   "outputs": [
    {
     "name": "stdout",
     "output_type": "stream",
     "text": [
      "Updated list: [1, 2, 3, 4]\n",
      "String after function call: Hello\n"
     ]
    }
   ],
   "source": [
    "# Task 5: Mutable vs Immutable Argument Behavior\n",
    "def update_number_list(numbers, new_number):\n",
    "    \"\"\"Append a new number to the given list of numbers.\"\"\"\n",
    "    numbers.append(new_number)\n",
    "\n",
    "# Mutable argument behavior\n",
    "number_list = [1, 2, 3]\n",
    "update_number_list(number_list, 4)\n",
    "print(f\"Updated list: {number_list}\")\n",
    "\n",
    "# Immutable argument behavior\n",
    "def append_to_string(base_str, add_str):\n",
    "    \"\"\"Attempt to append a string to another string (This won't work as intended).\"\"\"\n",
    "    base_str += add_str\n",
    "\n",
    "# Immutable argument behavior\n",
    "my_string = \"Hello\"\n",
    "append_to_string(my_string, \" World\")\n",
    "print(f\"String after function call: {my_string}\")\n"
   ]
  },
  {
   "cell_type": "code",
   "execution_count": 41,
   "metadata": {},
   "outputs": [
    {
     "name": "stdout",
     "output_type": "stream",
     "text": [
      "Booking 2 tickets to Paris on 2022-05-15 in economy class.\n",
      "Booking 1 tickets to New York on 2022-06-20 in business class.\n",
      "Booking 1 tickets to New York on 2022-06-20 in business class.\n"
     ]
    }
   ],
   "source": [
    "# Task 6: Best Practices for Using Arguments\n",
    "def book_flight(destination, date, num_passengers, seat_class='economy'):\n",
    "    \"\"\"Simulate booking a flight with various details.\"\"\"\n",
    "    print(f\"Booking {num_passengers} tickets to {destination} on {date} in {seat_class} class.\")\n",
    "\n",
    "# Call using positional arguments\n",
    "book_flight('Paris', '2022-05-15', 2)\n",
    "\n",
    "# Call using keyword arguments (clear for many parameters)\n",
    "book_flight(destination='New York', date='2022-06-20', num_passengers=1, seat_class='business')\n",
    "\n",
    "# An example where keyword arguments prevent mistakes with many parameters of the same type\n",
    "book_flight(date='2022-06-20', destination='New York', num_passengers=1, seat_class='business')\n"
   ]
  },
  {
   "cell_type": "markdown",
   "metadata": {},
   "source": [
    "\n",
    "The sample code provided above demonstrates how to define functions and call them using positional arguments, keyword arguments, and unpacking lists and dictionaries. It also illustrates the differences in behavior between mutable and immutable objects when used as function arguments. The final task emphasizes the importance of choosing the right argument type depending on the context of the function call."
   ]
  }
 ],
 "metadata": {
  "kernelspec": {
   "display_name": "py310",
   "language": "python",
   "name": "python3"
  },
  "language_info": {
   "codemirror_mode": {
    "name": "ipython",
    "version": 3
   },
   "file_extension": ".py",
   "mimetype": "text/x-python",
   "name": "python",
   "nbconvert_exporter": "python",
   "pygments_lexer": "ipython3",
   "version": "3.10.12"
  }
 },
 "nbformat": 4,
 "nbformat_minor": 2
}
