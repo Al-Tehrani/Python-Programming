{
 "cells": [
  {
   "cell_type": "markdown",
   "metadata": {},
   "source": [
    "<img src=\"./images/banner.png\" width=\"800\">"
   ]
  },
  {
   "cell_type": "markdown",
   "metadata": {},
   "source": [
    "# Introduction to Functions"
   ]
  },
  {
   "cell_type": "markdown",
   "metadata": {},
   "source": [
    "Welcome to the exciting world of functions in Python! As you embark on this journey, you'll discover that functions are the building blocks of reusable, organized, and efficient code. They are a fundamental concept in programming, much like their counterparts in mathematics. However, the functions we use in programming go beyond the simple input-output mapping you might have encountered in math class.\n"
   ]
  },
  {
   "cell_type": "markdown",
   "metadata": {},
   "source": [
    "Let's consider the mathematical function where `y = f(x)`. This notation describes a relationship where `f` transforms inputs `x` into an output `y`. Similarly, in programming, a function can take inputs (known as parameters), perform operations, and return an output. But that's just the beginning. Programming functions can do infinitely more—they can execute complex blocks of code, handle various tasks, and create abstractions that make software development more modular and error-free.\n"
   ]
  },
  {
   "cell_type": "markdown",
   "metadata": {},
   "source": [
    "<img src=\"./images/math-function.png\" width=\"600\">"
   ]
  },
  {
   "cell_type": "markdown",
   "metadata": {},
   "source": [
    "For example, in Python, you've already seen some built-in functions like `id()`, which returns a unique identifier for an object, or `len()`, which tells you how many items are in a container. These functions encapsulate specific tasks that you can leverage without needing to know the intricacies of their internal workings.\n"
   ]
  },
  {
   "cell_type": "code",
   "execution_count": 2,
   "metadata": {},
   "outputs": [
    {
     "name": "stdout",
     "output_type": "stream",
     "text": [
      "4403392752\n"
     ]
    }
   ],
   "source": [
    "s = 'foobar'\n",
    "print(id(s))  # Outputs the unique identifier for the string object 's'"
   ]
  },
  {
   "cell_type": "code",
   "execution_count": 1,
   "metadata": {},
   "outputs": [
    {
     "name": "stdout",
     "output_type": "stream",
     "text": [
      "4\n"
     ]
    }
   ],
   "source": [
    "a = ['foo', 'bar', 'baz', 'qux']\n",
    "print(len(a))  # Outputs the number of items in the list 'a'"
   ]
  },
  {
   "cell_type": "markdown",
   "metadata": {},
   "source": [
    "These built-in functions are just a peek into the utility of functions. As you learn to define your own functions, you'll gain control over the modularity and reusability of your code. You'll write functions that can be called from anywhere within your program, passing data in and out, and facilitating a smooth workflow.\n"
   ]
  },
  {
   "cell_type": "markdown",
   "metadata": {},
   "source": [
    "By the end of this lecture, you will have a solid understanding of what functions are, why they're indispensable, and how to begin using them in your Python programs. Whether it's for a simple task like computing the area of a rectangle or more complex operations, functions will become an essential tool in your programming arsenal. Let's dive in and explore the power of functions in Python!"
   ]
  },
  {
   "cell_type": "markdown",
   "metadata": {},
   "source": [
    "**Table of contents**<a id='toc0_'></a>    \n",
    "- [What is a Function?](#toc1_)    \n",
    "  - [Definition of a Function in Programming](#toc1_1_)    \n",
    "  - [Comparison with Mathematical Functions](#toc1_2_)    \n",
    "  - [Encapsulation of Code for Reuse](#toc1_3_)    \n",
    "- [Why Use Functions?](#toc2_)    \n",
    "  - [Benefits of Using Functions](#toc2_1_)    \n",
    "- [Real-World Analogies to Explain Function Usage](#toc3_)    \n",
    "  - [Examples of Common Functions in Everyday Computing](#toc3_1_)    \n",
    "\n",
    "<!-- vscode-jupyter-toc-config\n",
    "\tnumbering=false\n",
    "\tanchor=true\n",
    "\tflat=false\n",
    "\tminLevel=2\n",
    "\tmaxLevel=6\n",
    "\t/vscode-jupyter-toc-config -->\n",
    "<!-- THIS CELL WILL BE REPLACED ON TOC UPDATE. DO NOT WRITE YOUR TEXT IN THIS CELL -->"
   ]
  },
  {
   "cell_type": "markdown",
   "metadata": {},
   "source": [
    "## <a id='toc1_'></a>[What is a Function?](#toc0_)"
   ]
  },
  {
   "cell_type": "markdown",
   "metadata": {},
   "source": [
    "## What Are Functions?"
   ]
  },
  {
   "cell_type": "markdown",
   "metadata": {},
   "source": [
    "A function in programming is a reusable block of code that performs a specific task. Functions take in data, process it, and return a result. In Python, functions help organize your code and make it more readable and manageable. They allow you to write code once and use it multiple times throughout your program, which is a fundamental aspect of the **DRY (Don't Repeat Yourself)** principle.\n"
   ]
  },
  {
   "cell_type": "markdown",
   "metadata": {},
   "source": [
    "<img src=\"./images/math-function-input-output.png\" width=\"600\">"
   ]
  },
  {
   "cell_type": "markdown",
   "metadata": {},
   "source": [
    "## Why Use Functions?\n"
   ]
  },
  {
   "cell_type": "markdown",
   "metadata": {},
   "source": [
    "Functions are a fundamental way to segment your code into logical blocks. They make your code more readable and easier to debug. By using functions, you can:\n",
    "\n",
    "- Avoid repetition by reusing code.\n",
    "- Break down complex problems into simpler, more manageable pieces.\n",
    "- Improve code readability by abstracting details.\n",
    "- Enhance code maintainability by having a single point of modification.\n",
    "- Enable code reuse across different programs.\n"
   ]
  },
  {
   "cell_type": "markdown",
   "metadata": {},
   "source": [
    "## Creating Your First Function\n"
   ]
  },
  {
   "cell_type": "markdown",
   "metadata": {},
   "source": [
    "In Python, functions are defined using the `def` keyword, followed by a function name and parentheses which may include parameters. Here's a simple example:\n"
   ]
  },
  {
   "cell_type": "code",
   "execution_count": 3,
   "metadata": {},
   "outputs": [],
   "source": [
    "def greet():\n",
    "    print(\"Hello, World!\")"
   ]
  },
  {
   "cell_type": "markdown",
   "metadata": {},
   "source": [
    "<img src=\"./images/function-parts.png\" width=\"600\">"
   ]
  },
  {
   "cell_type": "markdown",
   "metadata": {},
   "source": [
    "To call the function, you simply use the function name followed by parentheses:\n"
   ]
  },
  {
   "cell_type": "code",
   "execution_count": 5,
   "metadata": {},
   "outputs": [
    {
     "name": "stdout",
     "output_type": "stream",
     "text": [
      "Hello, World!\n"
     ]
    }
   ],
   "source": [
    "greet()"
   ]
  },
  {
   "cell_type": "markdown",
   "metadata": {},
   "source": [
    "In the next section, you'll learn more about the anatomy of a function and how to define and call your own functions."
   ]
  }
 ],
 "metadata": {
  "kernelspec": {
   "display_name": "py310",
   "language": "python",
   "name": "python3"
  },
  "language_info": {
   "codemirror_mode": {
    "name": "ipython",
    "version": 3
   },
   "file_extension": ".py",
   "mimetype": "text/x-python",
   "name": "python",
   "nbconvert_exporter": "python",
   "pygments_lexer": "ipython3",
   "version": "3.10.12"
  }
 },
 "nbformat": 4,
 "nbformat_minor": 2
}
