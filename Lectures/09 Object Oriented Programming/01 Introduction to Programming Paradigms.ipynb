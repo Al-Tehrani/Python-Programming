{
 "cells": [
  {
   "cell_type": "markdown",
   "metadata": {},
   "source": [
    "<img src=\"./images/banner.png\" width=\"800\">"
   ]
  },
  {
   "cell_type": "markdown",
   "metadata": {},
   "source": [
    "# Introduction to Programming Paradigms"
   ]
  },
  {
   "cell_type": "markdown",
   "metadata": {},
   "source": [
    "Welcome to the exciting journey into the world of Object-Oriented Programming (OOP) in Python. This course is designed to introduce you to the fundamental concepts that form the backbone of modern programming techniques. Before we dive into the intricacies of OOP, it's essential to understand the broader context of programming paradigms.\n"
   ]
  },
  {
   "cell_type": "markdown",
   "metadata": {},
   "source": [
    "Programming paradigms are like lenses through which we can view and tackle programming challenges. They guide how we structure our code and solve problems. In this lecture, we'll briefly touch upon what programming paradigms are and why they matter. You'll learn about the three major paradigms: procedural, object-oriented, and functional programming. By the end of this lecture, you'll have a clear understanding of these paradigms, setting the stage for a deeper exploration into OOP.\n"
   ]
  },
  {
   "cell_type": "markdown",
   "metadata": {},
   "source": [
    "**Code Example: Hello World in Different Paradigms**\n"
   ]
  },
  {
   "cell_type": "markdown",
   "metadata": {},
   "source": [
    "- Procedural approach:\n"
   ]
  },
  {
   "cell_type": "code",
   "execution_count": null,
   "metadata": {},
   "outputs": [],
   "source": [
    "def say_hello():\n",
    "    print(\"Hello, World!\")\n",
    "\n",
    "say_hello()"
   ]
  },
  {
   "cell_type": "markdown",
   "metadata": {},
   "source": [
    "- Object-oriented approach:"
   ]
  },
  {
   "cell_type": "code",
   "execution_count": 1,
   "metadata": {},
   "outputs": [
    {
     "name": "stdout",
     "output_type": "stream",
     "text": [
      "Hello, World!\n"
     ]
    }
   ],
   "source": [
    "class Greeter:\n",
    "    def greet(self):\n",
    "        print(\"Hello, World!\")\n",
    "\n",
    "greeter = Greeter()\n",
    "greeter.greet()"
   ]
  },
  {
   "cell_type": "markdown",
   "metadata": {},
   "source": [
    "- Functional approach:"
   ]
  },
  {
   "cell_type": "code",
   "execution_count": 2,
   "metadata": {},
   "outputs": [
    {
     "name": "stdout",
     "output_type": "stream",
     "text": [
      "Hello, World!\n"
     ]
    }
   ],
   "source": [
    "greet = lambda: print(\"Hello, World!\")\n",
    "greet()"
   ]
  },
  {
   "cell_type": "markdown",
   "metadata": {},
   "source": [
    "As we proceed through the course, we'll dive into why OOP is a powerful paradigm for structuring your programs, especially as they grow in complexity and size. Let's get started!"
   ]
  },
  {
   "cell_type": "markdown",
   "metadata": {},
   "source": [
    "**Table of contents**<a id='toc0_'></a>    \n",
    "- [What is a Programming Paradigm?](#toc1_)    \n",
    "  - [Brief Overview of Paradigms](#toc1_1_)    \n",
    "\n",
    "<!-- vscode-jupyter-toc-config\n",
    "\tnumbering=false\n",
    "\tanchor=true\n",
    "\tflat=false\n",
    "\tminLevel=2\n",
    "\tmaxLevel=6\n",
    "\t/vscode-jupyter-toc-config -->\n",
    "<!-- THIS CELL WILL BE REPLACED ON TOC UPDATE. DO NOT WRITE YOUR TEXT IN THIS CELL -->"
   ]
  },
  {
   "cell_type": "markdown",
   "metadata": {},
   "source": [
    "## <a id='toc1_'></a>[What is a Programming Paradigm?](#toc0_)"
   ]
  },
  {
   "cell_type": "markdown",
   "metadata": {},
   "source": [
    "A programming paradigm is a set of concepts and practices that prescribe how software construction should be performed. These paradigms embody the philosophy of programming, influencing the way programmers think about problem-solving, structure code, and how the elements of the programming language itself are utilized to create efficient and readable programs. Paradigms are not strict rules but rather approaches that offer guidelines on how to tackle different aspects of programming.\n"
   ]
  },
  {
   "cell_type": "markdown",
   "metadata": {},
   "source": [
    "### <a id='toc1_1_'></a>[Brief Overview of Paradigms](#toc0_)\n"
   ]
  },
  {
   "cell_type": "markdown",
   "metadata": {},
   "source": [
    "- Procedural Programming\n",
    "    - Procedural programming is one of the oldest programming paradigms and is based on the concept of procedure calls, also known as routines or functions. This paradigm emphasizes a step-by-step set of instructions to solve a problem. It organizes code into reusable blocks (functions) and typically follows a top-down approach. Languages like C are known for their procedural style.\n",
    "\n",
    "- Object-Oriented Programming (OOP)\n",
    "    - Object-oriented programming is centered around the idea of 'objects'. These objects are instances of 'classes', which encapsulate both data (attributes) and behaviors (methods) relevant to the object. OOP is built on the principles of inheritance, encapsulation, abstraction, and polymorphism, allowing for more manageable and scalable code, especially in large software projects. Python, Java, and C++ are examples of languages that support OOP.\n",
    "\n",
    "- Functional Programming\n",
    "    - Functional programming treats computation as the evaluation of mathematical functions and avoids changing state and mutable data. It emphasizes the use of functions as first-class citizens, meaning they can be assigned to variables, passed as arguments, or returned from other functions. Functional programming languages like Haskell enforce this paradigm strictly, while languages like Python support functional programming features.\n",
    "\n",
    "- Logical Programming\n",
    "    - Logical programming is a paradigm that is largely based on formal logic. A program is a set of sentences in logical form, expressing facts and rules about some problem domain. The most well-known logical programming language is Prolog. This paradigm is especially suited for programs that involve complex logical queries, such as AI and expert systems."
   ]
  },
  {
   "cell_type": "markdown",
   "metadata": {},
   "source": [
    "Understanding these paradigms provides a foundation for learning how to use them effectively in your programming projects. Each paradigm has its strengths and is suited for different types of tasks; the choice of which to use often depends on the problem at hand, the requirements of the system, and the preference of the programmer."
   ]
  }
 ],
 "metadata": {
  "kernelspec": {
   "display_name": "py310",
   "language": "python",
   "name": "python3"
  },
  "language_info": {
   "codemirror_mode": {
    "name": "ipython",
    "version": 3
   },
   "file_extension": ".py",
   "mimetype": "text/x-python",
   "name": "python",
   "nbconvert_exporter": "python",
   "pygments_lexer": "ipython3",
   "version": "3.10.12"
  }
 },
 "nbformat": 4,
 "nbformat_minor": 2
}
