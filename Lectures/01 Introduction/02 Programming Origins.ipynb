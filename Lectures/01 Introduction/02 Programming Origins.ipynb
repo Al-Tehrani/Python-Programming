{
 "cells": [
  {
   "cell_type": "markdown",
   "metadata": {},
   "source": [
    "<img src=\"./images/banner.png\" width=\"600\">"
   ]
  },
  {
   "cell_type": "markdown",
   "metadata": {},
   "source": [
    "**Table of contents**<a id='toc0_'></a>    \n",
    "\n",
    "<!-- vscode-jupyter-toc-config\n",
    "\tnumbering=false\n",
    "\tanchor=true\n",
    "\tflat=false\n",
    "\tminLevel=1\n",
    "\tmaxLevel=6\n",
    "\t/vscode-jupyter-toc-config -->\n",
    "<!-- THIS CELL WILL BE REPLACED ON TOC UPDATE. DO NOT WRITE YOUR TEXT IN THIS CELL -->"
   ]
  },
  {
   "cell_type": "markdown",
   "metadata": {},
   "source": [
    "In the world of technology and computer science, understanding the origins of programming is essential to grasp the foundations of this ever-evolving field. Programming, at its core, is the art of giving instructions to a computer, enabling it to perform specific tasks and solve complex problems. To truly appreciate the programming languages and tools we have today, it is crucial to explore the early stages of programming and the first programming languages that laid the groundwork for what we now take for granted."
   ]
  },
  {
   "attachments": {},
   "cell_type": "markdown",
   "metadata": {},
   "source": [
    "Watch two episodes of the Computer Science Crash Course YouTube playlist for an insightful exploration into the pioneers and milestones that shaped the field. Discover the foundations behind the programming languages we use today:"
   ]
  },
  {
   "attachments": {},
   "cell_type": "markdown",
   "metadata": {},
   "source": [
    "<img src=\"../../images/youtube.png\" width=\"20\"/> Watch [Early Programming](https://www.youtube.com/watch?v=nwDq4adJwzM&list=PL8dPuuaLjXtNlUrzyH5r6jN9ulIgZBpdo&index=11)\n",
    "\n",
    "\n",
    "💡 Summary\n",
    "- Early computers relied on plug boards and physical wiring, making programming complex and time-consuming.\n",
    "- Punch cards were used to input and output data in early computers.\n",
    "- The development of electronic memory in the late 1940s and 1950s led to stored-program computers and the von Neumann architecture.\n",
    "- Punch cards were commonly used to load programming data into computers until electronic memory became feasible.\n",
    "- Panel programming, which involved switches and control panels, was another method used for programming early computers.\n",
    "- Early home computers, like the Altair 8800, relied on switches for programming.\n",
    "- Programming languages emerged as a simpler way to write programs, marking a significant advancement in computer programming.\n",
    "- The passage emphasizes the complexity and expertise required for early computer programming.\n",
    "- Punch cards and punched paper tape were important data storage methods in the early days of computing.\n",
    "- The passage hints at more advanced data storage technologies like hard drives, CDs, DVDs, and USB thumb drives.\n",
    "- The next episode will delve into programming languages and their role in simplifying the programming process.\n"
   ]
  },
  {
   "cell_type": "markdown",
   "metadata": {},
   "source": [
    "<img src=\"../../images/youtube.png\" width=\"20\"/> Watch [The First Programming Languages](https://www.youtube.com/watch?v=nwDq4adJwzM&list=PL8dPuuaLjXtNlUrzyH5r6jN9ulIgZBpdo&index=11)\n",
    "\n",
    "\n",
    "💡 Summary\n",
    "- The video discusses the concept of software and its significance in computer programming.\n",
    "- It explains machine code and assembly languages as low-level programming languages closely tied to hardware.\n",
    "- The role of assemblers in converting assembly instructions into machine code is described.\n",
    "- Grace Hopper's contribution to high-level programming languages and the development of the first compiler, A-0, are mentioned.\n",
    "- The emergence of FORTRAN as a popular high-level programming language and its impact on simplifying programming is highlighted.\n",
    "- The formation of the Committee on Data Systems Languages and the creation of COBOL as a standardized language for different computers are emphasized.\n",
    "- The idea of \"write once, run anywhere\" in programming languages is explained.\n",
    "- The passage provides an overview of the evolution of programming languages, including ALGOL, LISP, and modern languages like Python and Swift.\n",
    "- The potential future of programming languages, such as the use of natural language, is discussed.\n",
    "- The importance of programming languages in enabling people from various fields to incorporate computation into their work is underscored.\n"
   ]
  },
  {
   "cell_type": "markdown",
   "metadata": {},
   "source": [
    "<img src=\"../../images/youtube.png\" width=\"20\"/> Watch [Most Popular Programming Languages 1965 - 2022](https://www.youtube.com/watch?v=qQXXI5QFUfw&t=8s)"
   ]
  }
 ],
 "metadata": {
  "kernelspec": {
   "display_name": "py38",
   "language": "python",
   "name": "python3"
  },
  "language_info": {
   "name": "python",
   "version": "3.8.11"
  },
  "orig_nbformat": 4
 },
 "nbformat": 4,
 "nbformat_minor": 2
}
