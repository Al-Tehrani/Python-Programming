{
 "cells": [
  {
   "cell_type": "markdown",
   "metadata": {},
   "source": [
    "<img src=\"./images/banner.png\" width=\"800\">"
   ]
  },
  {
   "cell_type": "markdown",
   "metadata": {},
   "source": [
    "# Introduction to Python Code Structure and Syntax"
   ]
  },
  {
   "cell_type": "markdown",
   "metadata": {},
   "source": [
    "Welcome to the next step in your Python journey! So far, you've explored variables, operators, and data types, practicing with short snippets of code that perform simple tasks, such as assigning values to variables or outputting data to the screen.\n"
   ]
  },
  {
   "cell_type": "markdown",
   "metadata": {},
   "source": [
    "But programming is about more than defining data—it’s about organizing logic and instructions in a way that makes sense and solves problems. Now, we'll learn how to structure our code more effectively, laying the groundwork for more complex programs.\n"
   ]
  },
  {
   "cell_type": "markdown",
   "metadata": {},
   "source": [
    "In this section, you'll delve into the intricacies of Python's lexical structure. You'll discover the syntactic elements that form the backbone of Python statements—the fundamental building blocks of any Python program. Understanding these elements is crucial for what lies ahead: control structures that guide the flow of your programs and allow for more dynamic and flexible code.\n"
   ]
  },
  {
   "cell_type": "markdown",
   "metadata": {},
   "source": [
    "**What You'll Learn:**\n"
   ]
  },
  {
   "cell_type": "markdown",
   "metadata": {},
   "source": [
    "- **Python Statements**: Discover how Python interprets and executes your instructions, one line at a time.\n",
    "- **Line Continuation**: Learn how to extend a statement over multiple lines for improved readability.\n",
    "- **Comments**: Find out how to include explanatory text in your code that the Python interpreter ignores but can be invaluable for anyone reading the code.\n",
    "- **Whitespaces and Indentation**: Understand Python's unique approach to using indentation to define blocks of code, which is essential for structuring your programs.\n"
   ]
  },
  {
   "cell_type": "markdown",
   "metadata": {},
   "source": [
    "**Table of contents**<a id='toc0_'></a>    \n",
    "- [Python Statements in Action](#toc1_)    \n",
    "\n",
    "<!-- vscode-jupyter-toc-config\n",
    "\tnumbering=false\n",
    "\tanchor=true\n",
    "\tflat=false\n",
    "\tminLevel=2\n",
    "\tmaxLevel=6\n",
    "\t/vscode-jupyter-toc-config -->\n",
    "<!-- THIS CELL WILL BE REPLACED ON TOC UPDATE. DO NOT WRITE YOUR TEXT IN THIS CELL -->"
   ]
  },
  {
   "cell_type": "markdown",
   "metadata": {},
   "source": [
    "## <a id='toc1_'></a>[Python Statements in Action](#toc0_)\n"
   ]
  },
  {
   "cell_type": "markdown",
   "metadata": {},
   "source": [
    "A statement is a unit of code that the Python interpreter can execute. When you use a REPL (Read-Eval-Print Loop), each statement you type is executed immediately. In contrast, when running a script, the interpreter reads and executes each statement in sequence from the file until it reaches the end.\n"
   ]
  },
  {
   "cell_type": "markdown",
   "metadata": {},
   "source": [
    "Typically, Python scripts are written with one statement per line:\n"
   ]
  },
  {
   "cell_type": "code",
   "execution_count": 3,
   "metadata": {},
   "outputs": [
    {
     "name": "stdout",
     "output_type": "stream",
     "text": [
      "Hello, World!\n"
     ]
    }
   ],
   "source": [
    "print('Hello, World!')  # This line is a statement."
   ]
  },
  {
   "cell_type": "markdown",
   "metadata": {},
   "source": [
    "However, as programs grow, you may need to organize statements across multiple lines for clarity or to adhere to style guidelines. We'll explore how to do this elegantly in the next lecture.\n"
   ]
  },
  {
   "cell_type": "markdown",
   "metadata": {},
   "source": [
    "For now, here's a simple example to illustrate a Python statement:\n"
   ]
  },
  {
   "cell_type": "code",
   "execution_count": 4,
   "metadata": {},
   "outputs": [
    {
     "data": {
      "text/plain": [
       "[2]"
      ]
     },
     "execution_count": 4,
     "metadata": {},
     "output_type": "execute_result"
    }
   ],
   "source": [
    "x = [1, 2, 3]  # Assignment statement\n",
    "x[1:2]"
   ]
  },
  {
   "cell_type": "markdown",
   "metadata": {},
   "source": [
    "As we transition into more complex structures, remember that these foundations form the bedrock of all Python programming. Let's dive in!"
   ]
  }
 ],
 "metadata": {
  "kernelspec": {
   "display_name": "py310",
   "language": "python",
   "name": "python3"
  },
  "language_info": {
   "codemirror_mode": {
    "name": "ipython",
    "version": 3
   },
   "file_extension": ".py",
   "mimetype": "text/x-python",
   "name": "python",
   "nbconvert_exporter": "python",
   "pygments_lexer": "ipython3",
   "version": "3.10.12"
  }
 },
 "nbformat": 4,
 "nbformat_minor": 2
}
