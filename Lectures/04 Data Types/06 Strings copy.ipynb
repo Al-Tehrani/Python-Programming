{
 "cells": [
  {
   "cell_type": "markdown",
   "metadata": {},
   "source": [
    "<img src=\"./images/banner.png\" width=\"800\">"
   ]
  },
  {
   "cell_type": "markdown",
   "metadata": {},
   "source": [
    "# Strings"
   ]
  },
  {
   "cell_type": "markdown",
   "metadata": {},
   "source": [
    "\n",
    "In our journey through Python's basic data types, we briefly encountered strings. Before we delve deeper, let's take a moment to revisit and reinforce our understanding of this fundamental data type.\n"
   ]
  },
  {
   "cell_type": "markdown",
   "metadata": {},
   "source": [
    "Strings are one of the most commonly used data types in programming. Whether you're displaying messages to users, reading input, or processing text files, strings play a pivotal role in many programming tasks. In the previous lecture on basic data types, we touched upon strings briefly. Now, we'll delve deeper to understand the intricacies of this essential data type."
   ]
  },
  {
   "cell_type": "markdown",
   "metadata": {},
   "source": [
    "\n",
    "In our daily lives, we deal with text all the time: messages, names, addresses, and more. Similarly, in the digital world, text data is represented using strings. This lecture aims to provide you with a solid foundation on how strings are created, accessed, and some of their fundamental properties.\n"
   ]
  },
  {
   "cell_type": "markdown",
   "metadata": {},
   "source": [
    "\n",
    "By the end of this lecture, you'll have a clear understanding of the basics of strings, preparing you for more advanced topics in the future. Let's embark on this textual journey!"
   ]
  },
  {
   "cell_type": "markdown",
   "metadata": {},
   "source": [
    "**Table of contents**<a id='toc0_'></a>    \n",
    "- [What is a String?](#toc1_)    \n",
    "- [Why are Strings Important?](#toc2_)    \n",
    "- [Strings in Python](#toc3_)    \n",
    "- [Anatomy of Strings](#toc4_)    \n",
    "  - [Sequence of Characters](#toc4_1_)    \n",
    "\n",
    "<!-- vscode-jupyter-toc-config\n",
    "\tnumbering=false\n",
    "\tanchor=true\n",
    "\tflat=false\n",
    "\tminLevel=2\n",
    "\tmaxLevel=6\n",
    "\t/vscode-jupyter-toc-config -->\n",
    "<!-- THIS CELL WILL BE REPLACED ON TOC UPDATE. DO NOT WRITE YOUR TEXT IN THIS CELL -->"
   ]
  },
  {
   "cell_type": "markdown",
   "metadata": {},
   "source": [
    "\n",
    "## <a id='toc1_'></a>[What is a String?](#toc0_)\n"
   ]
  },
  {
   "cell_type": "markdown",
   "metadata": {},
   "source": [
    "At its core, a string is a sequence of characters. In Python, characters can be alphabets, numbers, punctuation, or even spaces. Essentially, any key you can type on a keyboard can be part of a string.\n"
   ]
  },
  {
   "cell_type": "markdown",
   "metadata": {},
   "source": [
    "\n",
    "## <a id='toc2_'></a>[Why are Strings Important?](#toc0_)\n"
   ]
  },
  {
   "cell_type": "markdown",
   "metadata": {},
   "source": [
    "Imagine a world without text. No books, no messages, no names. Hard to picture, right? In the realm of programming, strings serve as our primary means of representing and manipulating text data. From simple messages displayed on a screen to vast databases storing names and addresses, strings are everywhere.\n"
   ]
  },
  {
   "cell_type": "markdown",
   "metadata": {},
   "source": [
    "\n",
    "## <a id='toc3_'></a>[Strings in Python](#toc0_)\n"
   ]
  },
  {
   "cell_type": "markdown",
   "metadata": {},
   "source": [
    "In Python, strings are defined as either single (`' '`) or double (`\" \"`) quotes. Both representations work the same way, allowing flexibility based on the programmer's preference or the specific requirements of the code."
   ]
  },
  {
   "cell_type": "code",
   "execution_count": 1,
   "metadata": {},
   "outputs": [],
   "source": [
    "name = \"John Doe\"\n",
    "message = 'Hello, World!'"
   ]
  },
  {
   "cell_type": "markdown",
   "metadata": {},
   "source": [
    "Remember, strings are more than just words or sentences. They can represent numbers, special characters, or even be empty!"
   ]
  },
  {
   "cell_type": "code",
   "execution_count": 3,
   "metadata": {},
   "outputs": [],
   "source": [
    "number_as_string = \"12345\"\n",
    "special_chars = \"!@#$%^&*()\"\n",
    "empty_string = \"\""
   ]
  },
  {
   "cell_type": "markdown",
   "metadata": {},
   "source": [
    "Having refreshed our memory on what strings are and their significance, let's dive deeper into their anatomy and explore how we can create and access them in Python."
   ]
  },
  {
   "cell_type": "markdown",
   "metadata": {},
   "source": [
    "## <a id='toc4_'></a>[Anatomy of Strings](#toc0_)"
   ]
  },
  {
   "cell_type": "markdown",
   "metadata": {},
   "source": [
    "\n",
    "Understanding the structure and components of strings is crucial for effective string manipulation. Let's break down the anatomy of strings in Python.\n"
   ]
  },
  {
   "cell_type": "markdown",
   "metadata": {},
   "source": [
    "### <a id='toc4_1_'></a>[Sequence of Characters](#toc0_)\n"
   ]
  },
  {
   "cell_type": "markdown",
   "metadata": {},
   "source": [
    "A string is essentially a sequence of characters. Each character in a string has a specific position, starting from 0. This position is called an index.\n"
   ]
  },
  {
   "cell_type": "markdown",
   "metadata": {},
   "source": [
    "<img src=\"./images/string.png\" width=\"800\">"
   ]
  },
  {
   "cell_type": "code",
   "execution_count": 4,
   "metadata": {},
   "outputs": [],
   "source": [
    "word = \"Python\"\n",
    "# P is at index 0, y is at index 1, and so on."
   ]
  },
  {
   "cell_type": "markdown",
   "metadata": {},
   "source": [
    "**Length of a String**\n",
    "\n",
    "The number of characters in a string is its length. In Python, you can determine the length of a string using the `len()` function."
   ]
  },
  {
   "cell_type": "code",
   "execution_count": 53,
   "metadata": {},
   "outputs": [
    {
     "data": {
      "text/plain": [
       "6"
      ]
     },
     "execution_count": 53,
     "metadata": {},
     "output_type": "execute_result"
    }
   ],
   "source": [
    "word = \"Python\"\n",
    "len(word)"
   ]
  },
  {
   "cell_type": "markdown",
   "metadata": {},
   "source": [
    "**Accessing Characters**\n",
    "\n",
    "You can access individual characters in a string using their index."
   ]
  },
  {
   "cell_type": "code",
   "execution_count": null,
   "metadata": {},
   "outputs": [],
   "source": [
    "word = \"Python\""
   ]
  },
  {
   "cell_type": "code",
   "execution_count": null,
   "metadata": {},
   "outputs": [
    {
     "data": {
      "text/plain": [
       "'P'"
      ]
     },
     "metadata": {},
     "output_type": "display_data"
    }
   ],
   "source": [
    "word[0]  # This will give first char: 'P'"
   ]
  },
  {
   "cell_type": "markdown",
   "metadata": {},
   "source": [
    "Attempting to index with negative numbers beyond the start of the string results in an error:"
   ]
  },
  {
   "cell_type": "code",
   "execution_count": null,
   "metadata": {},
   "outputs": [
    {
     "ename": "IndexError",
     "evalue": "string index out of range",
     "output_type": "error",
     "traceback": [
      "\u001b[0;31m---------------------------------------------------------------------------\u001b[0m\n",
      "\u001b[0;31mIndexError\u001b[0m                                Traceback (most recent call last)\n",
      "\u001b[1;32m/Users/hejazizo/PERSONAL_DIR/pytopia/content/Python-2023/Lectures/04 Data Types/06 Strings.ipynb Cell 29\u001b[0m line \u001b[0;36m1\n",
      "\u001b[0;32m----> <a href='vscode-notebook-cell:/Users/hejazizo/PERSONAL_DIR/pytopia/content/Python-2023/Lectures/04%20Data%20Types/06%20Strings.ipynb#Y202sZmlsZQ%3D%3D?line=0'>1</a>\u001b[0m word[\u001b[39m6\u001b[39;49m]\n",
      "\n",
      "\u001b[0;31mIndexError\u001b[0m: string index out of range"
     ]
    }
   ],
   "source": [
    "word[6]"
   ]
  },
  {
   "cell_type": "markdown",
   "metadata": {},
   "source": [
    "- What is a string\n",
    "- Why are strings important\n",
    "- Strings in Python\n",
    "- Anatomy of strings\n",
    "- Creating Strings\n",
    "- String operators\n",
    "- Accessing Strings\n",
    "    - Indexing\n",
    "    - Slicing\n",
    "- Modifying Strings\n",
    "- Conclusion"
   ]
  },
  {
   "cell_type": "markdown",
   "metadata": {},
   "source": [
    "Splitting, Concatenating, and Joining Strings in Python\n",
    "- https://realpython.com/python-string-split-concatenate-join/"
   ]
  },
  {
   "cell_type": "markdown",
   "metadata": {},
   "source": [
    "Basic Input, Output, and String Formatting in Python\n",
    "- https://realpython.com/python-input-output/\n",
    "- https://realpython.com/python-formatted-output/"
   ]
  },
  {
   "cell_type": "code",
   "execution_count": null,
   "metadata": {},
   "outputs": [],
   "source": []
  }
 ],
 "metadata": {
  "kernelspec": {
   "display_name": "py310",
   "language": "python",
   "name": "python3"
  },
  "language_info": {
   "codemirror_mode": {
    "name": "ipython",
    "version": 3
   },
   "file_extension": ".py",
   "mimetype": "text/x-python",
   "name": "python",
   "nbconvert_exporter": "python",
   "pygments_lexer": "ipython3",
   "version": "3.10.12"
  },
  "orig_nbformat": 4
 },
 "nbformat": 4,
 "nbformat_minor": 2
}
