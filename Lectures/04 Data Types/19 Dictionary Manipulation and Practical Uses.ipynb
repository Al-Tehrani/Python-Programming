{
 "cells": [
  {
   "cell_type": "markdown",
   "metadata": {},
   "source": [
    "<img src=\"./images/composite-data-types-banner.png\" width=\"800\">"
   ]
  },
  {
   "cell_type": "markdown",
   "metadata": {},
   "source": [
    "# Dictionary Manipulation and Practical Uses"
   ]
  },
  {
   "cell_type": "markdown",
   "metadata": {},
   "source": [
    "Welcome back! In our last session, we laid a solid foundation for working with dictionaries in Python. Before we delve into more advanced features and use-cases, let's quickly recap the main points from our previous discussion:\n",
    "\n",
    "- **Introduction to Dictionaries**: We learned that dictionaries are mutable, unordered collections of key-value pairs, where keys must be immutable types, like strings or numbers.\n",
    "\n",
    "- **Creating Dictionaries**: We discussed various methods of creating dictionaries, including empty dictionary initialization, direct assignment of key-value pairs, and using the `dict()` constructor.\n",
    "\n",
    "- **Accessing Dictionary Values**: The key-based access of values using square brackets `[]` and the `get()` method were introduced, with an emphasis on the latter for safe retrieval that avoids `KeyError`.\n",
    "\n",
    "- **Adding and Updating Items**: We examined how to add new key-value pairs to dictionaries, as well as how to update existing values using both direct assignment and the `update()` method.\n",
    "\n",
    "- **Removing Items**: The `del` statement, `pop()` method, and `clear()` function were explained as different means to remove items from a dictionary, either individually or in whole.\n",
    "\n",
    "With this summary in mind, we are now ready to explore the more nuanced aspects of dictionaries, including iterating over them, dictionary methods, comprehensions, and nested dictionaries. Let's get started!"
   ]
  },
  {
   "cell_type": "markdown",
   "metadata": {},
   "source": [
    "**Table of contents**<a id='toc0_'></a>    \n",
    "- [Dict Methods and Functions](#toc1_)    \n",
    "  - [`.keys()` Method](#toc1_1_)    \n",
    "  - [`.values()` Method](#toc1_2_)    \n",
    "  - [`.items()` Method](#toc1_3_)    \n",
    "  - [`.get()` Method](#toc1_4_)    \n",
    "  - [`.update()` Method](#toc1_5_)    \n",
    "  - [`.pop()` Method](#toc1_6_)    \n",
    "  - [`.popitem()` Method](#toc1_7_)    \n",
    "  - [`.clear()` Method](#toc1_8_)    \n",
    "  - [`.setdefault()` Method](#toc1_9_)    \n",
    "  - [`copy()` Function](#toc1_10_)    \n",
    "  - [`len()` Function](#toc1_11_)    \n",
    "  - [`sorted()` Function](#toc1_12_)    \n",
    "- [Nested Dictionaries in Python](#toc2_)    \n",
    "  - [Understanding Nested Dictionaries](#toc2_1_)    \n",
    "  - [Accessing Items in a Nested Dictionary](#toc2_2_)    \n",
    "  - [Modifying Nested Dictionary Values](#toc2_3_)    \n",
    "  - [Adding New Items to a Nested Dictionary](#toc2_4_)    \n",
    "  - [Working with Deeply Nested Dictionaries](#toc2_5_)    \n",
    "  - [Conclusion](#toc2_6_)    \n",
    "- [Practice Exercise](#toc3_)    \n",
    "\n",
    "<!-- vscode-jupyter-toc-config\n",
    "\tnumbering=false\n",
    "\tanchor=true\n",
    "\tflat=false\n",
    "\tminLevel=2\n",
    "\tmaxLevel=6\n",
    "\t/vscode-jupyter-toc-config -->\n",
    "<!-- THIS CELL WILL BE REPLACED ON TOC UPDATE. DO NOT WRITE YOUR TEXT IN THIS CELL -->"
   ]
  },
  {
   "cell_type": "markdown",
   "metadata": {},
   "source": [
    "## <a id='toc1_'></a>[Dict Methods and Functions](#toc0_)"
   ]
  },
  {
   "cell_type": "markdown",
   "metadata": {},
   "source": [
    "Dictionaries in Python come equipped with a set of built-in methods and functions that can be used to perform various tasks, like retrieving all keys, values, or items, checking membership, copying dictionaries, and more. In this section, we'll explore some useful methods and functions and see them in action within our Jupyter notebook.\n"
   ]
  },
  {
   "cell_type": "markdown",
   "metadata": {},
   "source": [
    "### <a id='toc1_1_'></a>[`.keys()` Method](#toc0_)\n"
   ]
  },
  {
   "cell_type": "markdown",
   "metadata": {},
   "source": [
    "This method returns a new view of the dictionary’s keys. Here's an example:\n"
   ]
  },
  {
   "cell_type": "code",
   "execution_count": 1,
   "metadata": {},
   "outputs": [
    {
     "data": {
      "text/plain": [
       "dict_keys(['a', 'b', 'c'])"
      ]
     },
     "execution_count": 1,
     "metadata": {},
     "output_type": "execute_result"
    }
   ],
   "source": [
    "sample_dict = {'a': 1, 'b': 2, 'c': 3}\n",
    "sample_dict.keys()"
   ]
  },
  {
   "cell_type": "markdown",
   "metadata": {},
   "source": [
    "### <a id='toc1_2_'></a>[`.values()` Method](#toc0_)\n"
   ]
  },
  {
   "cell_type": "markdown",
   "metadata": {},
   "source": [
    "Similar to `.keys()`, the `.values()` method returns a new view of the dictionary's values:\n"
   ]
  },
  {
   "cell_type": "code",
   "execution_count": 2,
   "metadata": {},
   "outputs": [
    {
     "data": {
      "text/plain": [
       "dict_values([1, 2, 3])"
      ]
     },
     "execution_count": 2,
     "metadata": {},
     "output_type": "execute_result"
    }
   ],
   "source": [
    "sample_dict.values()"
   ]
  },
  {
   "cell_type": "markdown",
   "metadata": {},
   "source": [
    "### <a id='toc1_3_'></a>[`.items()` Method](#toc0_)\n"
   ]
  },
  {
   "cell_type": "markdown",
   "metadata": {},
   "source": [
    "This method returns a view object that displays a list of dictionary's key-value tuple pairs:\n"
   ]
  },
  {
   "cell_type": "code",
   "execution_count": 3,
   "metadata": {},
   "outputs": [
    {
     "data": {
      "text/plain": [
       "dict_items([('a', 1), ('b', 2), ('c', 3)])"
      ]
     },
     "execution_count": 3,
     "metadata": {},
     "output_type": "execute_result"
    }
   ],
   "source": [
    "sample_dict.items()"
   ]
  },
  {
   "cell_type": "markdown",
   "metadata": {},
   "source": [
    "### <a id='toc1_4_'></a>[`.get()` Method](#toc0_)\n"
   ]
  },
  {
   "cell_type": "markdown",
   "metadata": {},
   "source": [
    "The `.get(key, default=None)` method returns the value for the specified key if the key is in the dictionary; otherwise, it returns the default value:\n"
   ]
  },
  {
   "cell_type": "code",
   "execution_count": 4,
   "metadata": {},
   "outputs": [
    {
     "data": {
      "text/plain": [
       "1"
      ]
     },
     "execution_count": 4,
     "metadata": {},
     "output_type": "execute_result"
    }
   ],
   "source": [
    "# Returns 1 as 'a' exists in the dictionary\n",
    "sample_dict.get('a')"
   ]
  },
  {
   "cell_type": "code",
   "execution_count": 5,
   "metadata": {},
   "outputs": [
    {
     "data": {
      "text/plain": [
       "'Not Found'"
      ]
     },
     "execution_count": 5,
     "metadata": {},
     "output_type": "execute_result"
    }
   ],
   "source": [
    "# Returns 'Not Found' as 'd' does not exist in the dictionary\n",
    "sample_dict.get('d', 'Not Found')"
   ]
  },
  {
   "cell_type": "markdown",
   "metadata": {},
   "source": [
    "### <a id='toc1_5_'></a>[`.update()` Method](#toc0_)\n"
   ]
  },
  {
   "cell_type": "markdown",
   "metadata": {},
   "source": [
    "Updates the dictionary with elements from another dictionary object or from an iterable of key-value pairs:\n"
   ]
  },
  {
   "cell_type": "code",
   "execution_count": 6,
   "metadata": {},
   "outputs": [
    {
     "data": {
      "text/plain": [
       "{'a': 1, 'b': 2, 'c': 4, 'd': 5}"
      ]
     },
     "execution_count": 6,
     "metadata": {},
     "output_type": "execute_result"
    }
   ],
   "source": [
    "# Updates sample_dict with 'c':4 and adds 'd': 5\n",
    "sample_dict.update({'c': 4, 'd': 5})\n",
    "sample_dict"
   ]
  },
  {
   "cell_type": "markdown",
   "metadata": {},
   "source": [
    "### <a id='toc1_6_'></a>[`.pop()` Method](#toc0_)\n"
   ]
  },
  {
   "cell_type": "markdown",
   "metadata": {},
   "source": [
    "Removes the specified item from the dictionary and returns the removed item's value:\n"
   ]
  },
  {
   "cell_type": "code",
   "execution_count": 7,
   "metadata": {},
   "outputs": [
    {
     "data": {
      "text/plain": [
       "2"
      ]
     },
     "execution_count": 7,
     "metadata": {},
     "output_type": "execute_result"
    }
   ],
   "source": [
    "# Removes 'b' from dictionary and returns its value\n",
    "sample_dict.pop('b')"
   ]
  },
  {
   "cell_type": "markdown",
   "metadata": {},
   "source": [
    "### <a id='toc1_7_'></a>[`.popitem()` Method](#toc0_)\n"
   ]
  },
  {
   "cell_type": "markdown",
   "metadata": {},
   "source": [
    "Removes and returns the last inserted key-value pair as a tuple:\n"
   ]
  },
  {
   "cell_type": "code",
   "execution_count": 8,
   "metadata": {},
   "outputs": [
    {
     "data": {
      "text/plain": [
       "('d', 5)"
      ]
     },
     "execution_count": 8,
     "metadata": {},
     "output_type": "execute_result"
    }
   ],
   "source": [
    "# Removes and returns the last key-value pair\n",
    "sample_dict.popitem()"
   ]
  },
  {
   "cell_type": "markdown",
   "metadata": {},
   "source": [
    "### <a id='toc1_8_'></a>[`.clear()` Method](#toc0_)\n"
   ]
  },
  {
   "cell_type": "markdown",
   "metadata": {},
   "source": [
    "Removes all items from the dictionary:\n"
   ]
  },
  {
   "cell_type": "code",
   "execution_count": 9,
   "metadata": {},
   "outputs": [
    {
     "data": {
      "text/plain": [
       "{}"
      ]
     },
     "execution_count": 9,
     "metadata": {},
     "output_type": "execute_result"
    }
   ],
   "source": [
    "sample_dict.clear()\n",
    "sample_dict"
   ]
  },
  {
   "cell_type": "markdown",
   "metadata": {},
   "source": [
    "### <a id='toc1_9_'></a>[`.setdefault()` Method](#toc0_)\n"
   ]
  },
  {
   "cell_type": "markdown",
   "metadata": {},
   "source": [
    "Returns the value of the specified key. If the key does not exist, inserts the key with the specified value:\n"
   ]
  },
  {
   "cell_type": "code",
   "execution_count": 10,
   "metadata": {},
   "outputs": [],
   "source": [
    "sample_dict = {'a': 1, 'b': 2, 'c': 3}"
   ]
  },
  {
   "cell_type": "code",
   "execution_count": 11,
   "metadata": {},
   "outputs": [
    {
     "data": {
      "text/plain": [
       "3"
      ]
     },
     "execution_count": 11,
     "metadata": {},
     "output_type": "execute_result"
    }
   ],
   "source": [
    "# Returns 3 as 'c' is in dictionary\n",
    "sample_dict.setdefault('c', 'Not Found')"
   ]
  },
  {
   "cell_type": "code",
   "execution_count": 12,
   "metadata": {},
   "outputs": [
    {
     "data": {
      "text/plain": [
       "4"
      ]
     },
     "execution_count": 12,
     "metadata": {},
     "output_type": "execute_result"
    }
   ],
   "source": [
    "# Inserts key 'd' with value '4' and returns '4'\n",
    "sample_dict.setdefault('d', 4)"
   ]
  },
  {
   "cell_type": "code",
   "execution_count": 13,
   "metadata": {},
   "outputs": [
    {
     "data": {
      "text/plain": [
       "{'a': 1, 'b': 2, 'c': 3, 'd': 4}"
      ]
     },
     "execution_count": 13,
     "metadata": {},
     "output_type": "execute_result"
    }
   ],
   "source": [
    "sample_dict"
   ]
  },
  {
   "cell_type": "markdown",
   "metadata": {},
   "source": [
    "### <a id='toc1_10_'></a>[`copy()` Function](#toc0_)\n"
   ]
  },
  {
   "cell_type": "markdown",
   "metadata": {},
   "source": [
    "To copy a dictionary, you can use the `copy()` method which creates a shallow copy of the dictionary:\n"
   ]
  },
  {
   "cell_type": "code",
   "execution_count": 14,
   "metadata": {},
   "outputs": [
    {
     "data": {
      "text/plain": [
       "{'a': 1, 'b': 2, 'c': 3, 'd': 4}"
      ]
     },
     "execution_count": 14,
     "metadata": {},
     "output_type": "execute_result"
    }
   ],
   "source": [
    "# Copy of sample_dict\n",
    "duplicate_dict = sample_dict.copy()\n",
    "duplicate_dict"
   ]
  },
  {
   "cell_type": "markdown",
   "metadata": {},
   "source": [
    "### <a id='toc1_11_'></a>[`len()` Function](#toc0_)\n"
   ]
  },
  {
   "cell_type": "markdown",
   "metadata": {},
   "source": [
    "This function returns the number of items (key-value pairs) in the dictionary:\n"
   ]
  },
  {
   "cell_type": "code",
   "execution_count": 15,
   "metadata": {},
   "outputs": [
    {
     "data": {
      "text/plain": [
       "4"
      ]
     },
     "execution_count": 15,
     "metadata": {},
     "output_type": "execute_result"
    }
   ],
   "source": [
    "len(sample_dict)"
   ]
  },
  {
   "cell_type": "markdown",
   "metadata": {},
   "source": [
    "### <a id='toc1_12_'></a>[`sorted()` Function](#toc0_)\n"
   ]
  },
  {
   "cell_type": "markdown",
   "metadata": {},
   "source": [
    "Returns a new sorted list of keys from the dictionary:\n"
   ]
  },
  {
   "cell_type": "code",
   "execution_count": 16,
   "metadata": {},
   "outputs": [
    {
     "data": {
      "text/plain": [
       "['a', 'b', 'c', 'd']"
      ]
     },
     "execution_count": 16,
     "metadata": {},
     "output_type": "execute_result"
    }
   ],
   "source": [
    "sorted(sample_dict)"
   ]
  },
  {
   "cell_type": "markdown",
   "metadata": {},
   "source": [
    "These are just some of the key methods and functions that help in dictating how we can manipulate, copy, and retrieve information from dictionaries. Now that we understand these methods, we'll move on to iterating over dictionaries and then explore some more advanced use cases."
   ]
  },
  {
   "cell_type": "markdown",
   "metadata": {},
   "source": [
    "## <a id='toc2_'></a>[Nested Dictionaries in Python](#toc0_)"
   ]
  },
  {
   "cell_type": "markdown",
   "metadata": {},
   "source": [
    "Nested dictionaries are dictionaries that contain other dictionaries as their values. This structure allows you to create complex, hierarchical data models within a single, nested data structure. Let's explore the concept of nested dictionaries and how to work with them.\n"
   ]
  },
  {
   "cell_type": "markdown",
   "metadata": {},
   "source": [
    "### <a id='toc2_1_'></a>[Understanding Nested Dictionaries](#toc0_)\n"
   ]
  },
  {
   "cell_type": "markdown",
   "metadata": {},
   "source": [
    "A nested dictionary is used when one key refers to another dictionary. These can be as deep as needed, meaning you can have a dictionary that contains a dictionary, which in turn contains another dictionary, and so on.\n"
   ]
  },
  {
   "cell_type": "markdown",
   "metadata": {},
   "source": [
    "Here's how you define a nested dictionary:\n"
   ]
  },
  {
   "cell_type": "code",
   "execution_count": 17,
   "metadata": {},
   "outputs": [],
   "source": [
    "# A simple nested dictionary\n",
    "family_ages = {\n",
    "    'parent1': {'name': 'John', 'age': 42},\n",
    "    'parent2': {'name': 'Jane', 'age': 40},\n",
    "    'child': {'name': 'Doe', 'age': 18}\n",
    "}"
   ]
  },
  {
   "cell_type": "markdown",
   "metadata": {},
   "source": [
    "In this example, the keys 'parent1', 'parent2', and 'child' are mapped to other dictionaries that store individual information about family members.\n"
   ]
  },
  {
   "cell_type": "markdown",
   "metadata": {},
   "source": [
    "### <a id='toc2_2_'></a>[Accessing Items in a Nested Dictionary](#toc0_)\n"
   ]
  },
  {
   "cell_type": "markdown",
   "metadata": {},
   "source": [
    "To access nested dictionary values, you chain the keys using square brackets `[]` one after the other, based on the depth of nesting:\n"
   ]
  },
  {
   "cell_type": "code",
   "execution_count": 18,
   "metadata": {},
   "outputs": [
    {
     "data": {
      "text/plain": [
       "'John'"
      ]
     },
     "execution_count": 18,
     "metadata": {},
     "output_type": "execute_result"
    }
   ],
   "source": [
    "# Accessing nested dictionary values\n",
    "parent1_name = family_ages['parent1']['name']\n",
    "parent1_name"
   ]
  },
  {
   "cell_type": "markdown",
   "metadata": {},
   "source": [
    "### <a id='toc2_3_'></a>[Modifying Nested Dictionary Values](#toc0_)\n"
   ]
  },
  {
   "cell_type": "markdown",
   "metadata": {},
   "source": [
    "To modify an item in a nested dictionary, you access the nested key and assign a new value:\n"
   ]
  },
  {
   "cell_type": "code",
   "execution_count": 19,
   "metadata": {},
   "outputs": [
    {
     "data": {
      "text/plain": [
       "{'parent1': {'name': 'John', 'age': 43},\n",
       " 'parent2': {'name': 'Jane', 'age': 40},\n",
       " 'child': {'name': 'Doe', 'age': 18}}"
      ]
     },
     "execution_count": 19,
     "metadata": {},
     "output_type": "execute_result"
    }
   ],
   "source": [
    "# Modifying an item in a nested dictionary\n",
    "family_ages['parent1']['age'] = 43\n",
    "family_ages"
   ]
  },
  {
   "cell_type": "markdown",
   "metadata": {},
   "source": [
    "### <a id='toc2_4_'></a>[Adding New Items to a Nested Dictionary](#toc0_)\n"
   ]
  },
  {
   "cell_type": "markdown",
   "metadata": {},
   "source": [
    "Adding a new item is similar to modifying, except you specify a new key for the nested dictionary:\n"
   ]
  },
  {
   "cell_type": "code",
   "execution_count": 20,
   "metadata": {},
   "outputs": [
    {
     "data": {
      "text/plain": [
       "{'parent1': {'name': 'John', 'age': 43, 'birthday': 'January 1'},\n",
       " 'parent2': {'name': 'Jane', 'age': 40},\n",
       " 'child': {'name': 'Doe', 'age': 18}}"
      ]
     },
     "execution_count": 20,
     "metadata": {},
     "output_type": "execute_result"
    }
   ],
   "source": [
    "# Adding a new item to a nested dictionary\n",
    "family_ages['parent1']['birthday'] = 'January 1'\n",
    "family_ages"
   ]
  },
  {
   "cell_type": "markdown",
   "metadata": {},
   "source": [
    "### <a id='toc2_5_'></a>[Working with Deeply Nested Dictionaries](#toc0_)\n"
   ]
  },
  {
   "cell_type": "markdown",
   "metadata": {},
   "source": [
    "For deeply nested structures, you would continue extending the chain of keys:\n"
   ]
  },
  {
   "cell_type": "code",
   "execution_count": 21,
   "metadata": {},
   "outputs": [],
   "source": [
    "# A deeply nested dictionary\n",
    "complex_dict = {\n",
    "    'key1': {\n",
    "        'key2': {\n",
    "            'key3': {\n",
    "                'target': 'value'\n",
    "            }\n",
    "        }\n",
    "    }\n",
    "}"
   ]
  },
  {
   "cell_type": "code",
   "execution_count": 22,
   "metadata": {},
   "outputs": [
    {
     "data": {
      "text/plain": [
       "'value'"
      ]
     },
     "execution_count": 22,
     "metadata": {},
     "output_type": "execute_result"
    }
   ],
   "source": [
    "# Accessing deeply nested values\n",
    "target_value = complex_dict['key1']['key2']['key3']['target']\n",
    "target_value"
   ]
  },
  {
   "cell_type": "markdown",
   "metadata": {},
   "source": [
    "### <a id='toc2_6_'></a>[Conclusion](#toc0_)\n"
   ]
  },
  {
   "cell_type": "markdown",
   "metadata": {},
   "source": [
    "Nested dictionaries can be very useful for representing complex data structures. By understanding how to access and manipulate nested data, you can model a wide variety of real-world data scenarios in a clear and concise manner. As with any complex data structure, be mindful to avoid excessive nesting as it can make your code difficult to read and debug.\n"
   ]
  },
  {
   "cell_type": "markdown",
   "metadata": {},
   "source": [
    "In the next sections, we'll discuss practical applications for dictionaries and reflect on their performance and best practices."
   ]
  },
  {
   "cell_type": "markdown",
   "metadata": {},
   "source": [
    "## <a id='toc3_'></a>[Practice Exercise](#toc0_)\n",
    "\n",
    "After exploring the Python dictionaries, it's time to apply what we've learned.\n",
    "\n",
    "1. **Membership Test**:\n",
    "   - Given a dictionary `city_presence = {'New York': True, 'Berlin': True, 'Tokyo': True, 'Sydney': True}`.\n",
    "   - Determine if 'London' and 'Tokyo' are keys in `city_presence` by using membership tests.\n",
    "\n",
    "2. **Default Values with `setdefault`**:\n",
    "   - Create a dictionary `student_score = {'Alice': 88, 'Bob': 95}`.\n",
    "   - Use the `setdefault` method to return 'Bob's score and insert 'Charlie' with a score of 0 if he doesn't exist in the dictionary. Display the dictionary after this operation.\n",
    "\n",
    "3. **Updating a Single Item**:\n",
    "   - Starting with the dictionary `preferences = {'color': 'blue', 'food': 'pizza', 'drink': 'water'}`.\n",
    "   - Update the value associated with the key 'drink' to 'orange juice'.\n",
    "\n",
    "4. **Dictionary Merging and Updating**:\n",
    "   - Create two dictionaries: `stock_A = {'apples': 5, 'oranges': 7}` and `stock_B = {'oranges': 12, 'bananas': 3}`.\n",
    "   - Update `stock_A` with the contents of `stock_B` and observe how the value for 'oranges' changes.\n",
    "\n",
    "5. **Inverting a Dictionary**:\n",
    "   - With the dictionary `code_to_state = {'CA': 'California', 'NY': 'New York', 'TX': 'Texas'}`, create a new dictionary where the states are the keys and the codes are the values.\n",
    "\n",
    "6. **Using `dict()` with Zip**:\n",
    "   - Given two lists, `keys = ['name', 'age', 'email']` and `values = ['Alice', 30, 'alice@example.com']`.\n",
    "   - Use the `zip` function in tandem with the `dict()` constructor to create a dictionary that pairs each key with its corresponding value.\n",
    "\n",
    "7. **Nested Dictionary Access**:\n",
    "   - With a nested dictionary `account_info = {'user1': {'name': 'Alice', 'password': 'alice123'}, 'user2': {'name': 'Bob', 'password': 'bobsecure'}}`, access and display the password for 'user1'."
   ]
  }
 ],
 "metadata": {
  "kernelspec": {
   "display_name": "py310",
   "language": "python",
   "name": "python3"
  },
  "language_info": {
   "codemirror_mode": {
    "name": "ipython",
    "version": 3
   },
   "file_extension": ".py",
   "mimetype": "text/x-python",
   "name": "python",
   "nbconvert_exporter": "python",
   "pygments_lexer": "ipython3",
   "version": "3.10.12"
  }
 },
 "nbformat": 4,
 "nbformat_minor": 2
}
