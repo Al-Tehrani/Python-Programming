{
 "cells": [
  {
   "cell_type": "markdown",
   "metadata": {},
   "source": [
    "<img src=\"./images/composite-data-types-banner.png\" width=\"800\">"
   ]
  },
  {
   "cell_type": "markdown",
   "metadata": {},
   "source": [
    "# Lists"
   ]
  },
  {
   "cell_type": "markdown",
   "metadata": {},
   "source": [
    "Welcome everyone! Today, we're going to explore a really cool feature in Python: Lists."
   ]
  },
  {
   "cell_type": "markdown",
   "metadata": {},
   "source": [
    "So what exactly is a list?\n"
   ]
  },
  {
   "cell_type": "markdown",
   "metadata": {},
   "source": [
    "Well, think about a shopping list. When you go to the grocery store, you tend to list all the things you need to buy, right? In this list, you could have a variety of items - apples, milk, cereal, etc., all written down in one place.\n"
   ]
  },
  {
   "cell_type": "markdown",
   "metadata": {},
   "source": [
    "A List in Python is just like that shopping list. It's a collection where you can save different types of items - numbers, words, other lists, and more. Unlike a shopping list though, a Python list is saved in your computer's memory.\n"
   ]
  },
  {
   "cell_type": "markdown",
   "metadata": {},
   "source": [
    "Let's see an example. A Python List might look something like this:"
   ]
  },
  {
   "cell_type": "code",
   "execution_count": 1,
   "metadata": {},
   "outputs": [],
   "source": [
    "my_list = [1, \"Hello World\", 3.14, [\"Another\", \"list\"]]"
   ]
  },
  {
   "cell_type": "markdown",
   "metadata": {},
   "source": [
    "Here, we have a list named `my_list` and it holds four items: an integer (`1`), a string (`\"Hello World\"`), a float (`3.14`), and even another list (`[\"Another\", \"list\"]`). Pretty cool, right?"
   ]
  },
  {
   "cell_type": "code",
   "execution_count": 5,
   "metadata": {},
   "outputs": [],
   "source": [
    "x = [1, 2, 3]\n",
    "y = [3, 2, 1]"
   ]
  },
  {
   "cell_type": "code",
   "execution_count": 6,
   "metadata": {},
   "outputs": [
    {
     "data": {
      "text/plain": [
       "False"
      ]
     },
     "execution_count": 6,
     "metadata": {},
     "output_type": "execute_result"
    }
   ],
   "source": [
    "x == y"
   ]
  },
  {
   "cell_type": "code",
   "execution_count": 7,
   "metadata": {},
   "outputs": [
    {
     "data": {
      "text/plain": [
       "False"
      ]
     },
     "execution_count": 7,
     "metadata": {},
     "output_type": "execute_result"
    }
   ],
   "source": [
    "x is y"
   ]
  },
  {
   "cell_type": "markdown",
   "metadata": {},
   "source": [
    "As you can see, two lists are equal if they have the same elements in the same order. So, for example, the list `[1, 2, 3]` is not equal to the list `[3, 2, 1]` because the elements are in different orders."
   ]
  },
  {
   "cell_type": "markdown",
   "metadata": {},
   "source": [
    "\n",
    "You'll find that lists are very useful and used quite often in Python programming, so understanding them is very important. For the rest of this lecture, we're going to learn more about how to use and manipulate Python lists.\n"
   ]
  },
  {
   "cell_type": "markdown",
   "metadata": {},
   "source": [
    "\n",
    "Remember, just like your grocery list helps to keep you organized, Python lists can help you keep your data organized!"
   ]
  },
  {
   "cell_type": "markdown",
   "metadata": {},
   "source": [
    "## List Fundamentals"
   ]
  },
  {
   "cell_type": "markdown",
   "metadata": {},
   "source": [
    "Now that we've introduced what a Python list is, let's delve into some important things to remember about them:\n"
   ]
  },
  {
   "cell_type": "markdown",
   "metadata": {},
   "source": [
    "### Lists are Ordered\n"
   ]
  },
  {
   "cell_type": "markdown",
   "metadata": {},
   "source": [
    "What does this mean? Well, when you create a list in Python, the order in which you input your items is important. This is just like when you watch a movie; it wouldn't make sense if the end came before the beginning, right? \n"
   ]
  },
  {
   "cell_type": "markdown",
   "metadata": {},
   "source": [
    "In a Python list, the first item you add will be the first item in the list, the second item you add will be the second in the list, and so on. It's like forming a line at the ice-cream truck! For example:"
   ]
  },
  {
   "cell_type": "code",
   "execution_count": 3,
   "metadata": {},
   "outputs": [],
   "source": [
    "ice_cream_flavors = [\"Vanilla\", \"Chocolate\", \"Strawberry\"]"
   ]
  },
  {
   "cell_type": "markdown",
   "metadata": {},
   "source": [
    "\n",
    "In the `ice_cream_flavors` list, \"Vanilla\" is the first item, \"Chocolate\" is the second, and \"Strawberry\" is the third. Just like the kids in line, these items keep their order.\n"
   ]
  },
  {
   "cell_type": "markdown",
   "metadata": {},
   "source": [
    "### Lists Can Contain Arbitrary Objects\n"
   ]
  },
  {
   "cell_type": "markdown",
   "metadata": {},
   "source": [
    "This sounds really fancy, but it just means that a Python list can hold all sorts of things. You can store numbers, words, other lists, anything at all! It's like a treasure chest where you can store any type of treasure you find. This is what we hinted at in our previous section when we created `my_list` with all sorts of different items. \n"
   ]
  },
  {
   "cell_type": "markdown",
   "metadata": {},
   "source": [
    "For instance:"
   ]
  },
  {
   "cell_type": "code",
   "execution_count": 4,
   "metadata": {},
   "outputs": [],
   "source": [
    "my_treasure_chest = [7, \"Bitcoin\", [\"Gold\", \"Silver\"], 3.14]"
   ]
  },
  {
   "cell_type": "markdown",
   "metadata": {},
   "source": [
    "\n",
    "Here `my_treasure_chest` list has a number (`7`), a word (`\"Bitcoin\"`), another list (`[\"Gold\", \"Silver\"]`), and a float number (`3.14`). Very versatile, huh?\n"
   ]
  },
  {
   "cell_type": "markdown",
   "metadata": {},
   "source": [
    "These two features are the cornerstones of Python lists, and understanding these features will help us make the best use of lists in our future programming adventures!"
   ]
  }
 ],
 "metadata": {
  "kernelspec": {
   "display_name": "py310",
   "language": "python",
   "name": "python3"
  },
  "language_info": {
   "codemirror_mode": {
    "name": "ipython",
    "version": 3
   },
   "file_extension": ".py",
   "mimetype": "text/x-python",
   "name": "python",
   "nbconvert_exporter": "python",
   "pygments_lexer": "ipython3",
   "version": "3.10.12"
  }
 },
 "nbformat": 4,
 "nbformat_minor": 2
}
